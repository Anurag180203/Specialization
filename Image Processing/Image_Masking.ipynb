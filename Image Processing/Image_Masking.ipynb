{
 "cells": [
  {
   "cell_type": "code",
   "execution_count": 2,
   "metadata": {},
   "outputs": [],
   "source": [
    "import matplotlib.pyplot as plt\n",
    "import numpy as np\n",
    "import cv2 as cv"
   ]
  },
  {
   "cell_type": "markdown",
   "metadata": {},
   "source": [
    "MASKING IN GRAY IMAGE"
   ]
  },
  {
   "cell_type": "code",
   "execution_count": 9,
   "metadata": {},
   "outputs": [],
   "source": [
    "cam = cv.VideoCapture(0)\n",
    "\n",
    "while(True):\n",
    "    ret, frame = cam.read()\n",
    "    frame = cv.flip(frame,1)\n",
    "\n",
    "    cv.imshow('Original',frame)\n",
    "\n",
    "    gray = cv.cvtColor(frame, cv.COLOR_BGR2GRAY)\n",
    "    cv.imshow('Gray',gray)\n",
    "\n",
    "    gray_threshold_1 = gray.copy()\n",
    "    gray_threshold_1[gray_threshold_1>200] = 30 # black background\n",
    "\n",
    "    gray_thr_2 = gray.copy()\n",
    "    gray_thr_2[gray_thr_2>200] = 100 # white background\n",
    "\n",
    "    cv.imshow('Gray Threshold 2',gray_thr_2)\n",
    "\n",
    "    cv.imshow('Gray Threshold 1',gray_threshold_1)\n",
    "\n",
    "    key = cv.waitKey(10)\n",
    "    if key == 27:\n",
    "        cam.release()\n",
    "        cv.destroyAllWindows()\n",
    "        break"
   ]
  },
  {
   "cell_type": "markdown",
   "metadata": {},
   "source": [
    "masking COLORED IMAGE"
   ]
  },
  {
   "cell_type": "code",
   "execution_count": 17,
   "metadata": {},
   "outputs": [],
   "source": [
    "cam = cv.VideoCapture(0)\n",
    "\n",
    "lower = np.array([0,0,0])\n",
    "upper = np.array([50,50,50]) # masks only black\n",
    "# using this technique we can mask any color , helpful in background separation\n",
    "\n",
    "while(True):\n",
    "    ret, frame = cam.read()\n",
    "    frame = cv.flip(frame,1)\n",
    "\n",
    "    cv.imshow('Original',frame)\n",
    "\n",
    "    mask = cv.blur(frame,(4,4)) # blurring the image to remove noise\n",
    "    mask = cv.inRange(frame, lower, upper)\n",
    "    \n",
    "    cv.imshow('Mask',mask)\n",
    "\n",
    "    key = cv.waitKey(10)\n",
    "    if key == 27:\n",
    "        cam.release()\n",
    "        cv.destroyAllWindows()\n",
    "        break"
   ]
  },
  {
   "cell_type": "code",
   "execution_count": 33,
   "metadata": {},
   "outputs": [
    {
     "name": "stdout",
     "output_type": "stream",
     "text": [
      "(1488, 1118, 3)\n"
     ]
    }
   ],
   "source": [
    "lower = np.array([0,0,0])\n",
    "upper = np.array([50,50,50])\n",
    "\n",
    "img = cv.imread('img_5.png')\n",
    "print(img.shape)\n",
    "img = cv.resize(img,(img.shape[1]//2,img.shape[0]//2))\n",
    "img = cv.blur(img,(2,2)) # blurring the image\n",
    "mask = cv.inRange(img, lower, upper)\n",
    "cv.imshow('Original',img)\n",
    "cv.imshow('Mask',mask)\n",
    "cv.waitKey(0)\n",
    "cv.destroyAllWindows()"
   ]
  },
  {
   "cell_type": "code",
   "execution_count": 32,
   "metadata": {},
   "outputs": [
    {
     "name": "stdout",
     "output_type": "stream",
     "text": [
      "(1798, 1348, 3)\n"
     ]
    }
   ],
   "source": [
    "lower = np.array([120,110,60])\n",
    "upper = np.array([255,160,140])\n",
    "\n",
    "img = cv.imread('img_4.png')\n",
    "print(img.shape)\n",
    "img = cv.resize(img,(img.shape[1]//2,img.shape[0]//2))\n",
    "img = cv.blur(img,(4,4)) # blurring the image\n",
    "mask = cv.inRange(img, lower, upper)\n",
    "cv.imshow('Original',img)\n",
    "cv.imshow('Mask',mask)\n",
    "cv.waitKey(0)\n",
    "cv.destroyAllWindows()"
   ]
  },
  {
   "cell_type": "code",
   "execution_count": 34,
   "metadata": {},
   "outputs": [],
   "source": [
    "lower = np.array([70,70,70])\n",
    "upper = np.array([180,180,180])\n",
    "\n",
    "img = cv.imread('img_4.png')\n",
    "img = cv.resize(img,(img.shape[1]//2,img.shape[0]//2))\n",
    "img = cv.blur(img,(4,4)) # blurring the image\n",
    "mask = cv.inRange(img, lower, upper)\n",
    "cv.imshow('Original',img)\n",
    "cv.imshow('Mask',mask)\n",
    "cv.waitKey(0)\n",
    "cv.destroyAllWindows()"
   ]
  },
  {
   "cell_type": "code",
   "execution_count": 41,
   "metadata": {},
   "outputs": [],
   "source": [
    "lower = np.array([175,175,175])\n",
    "upper = np.array([255,255,255])\n",
    "\n",
    "img = cv.imread('img_1.png')\n",
    "img = cv.resize(img,(img.shape[1]//4,img.shape[0]//4))\n",
    "# img = cv.blur(img,(4,4)) # blurring the image helps in masking\n",
    "mask = cv.inRange(img, lower, upper)\n",
    "cv.imshow('Original',img)\n",
    "cv.imshow('Mask',mask)\n",
    "cv.waitKey(0)\n",
    "cv.destroyAllWindows()"
   ]
  }
 ],
 "metadata": {
  "kernelspec": {
   "display_name": "Python 3",
   "language": "python",
   "name": "python3"
  },
  "language_info": {
   "codemirror_mode": {
    "name": "ipython",
    "version": 3
   },
   "file_extension": ".py",
   "mimetype": "text/x-python",
   "name": "python",
   "nbconvert_exporter": "python",
   "pygments_lexer": "ipython3",
   "version": "3.10.0"
  },
  "orig_nbformat": 4
 },
 "nbformat": 4,
 "nbformat_minor": 2
}
