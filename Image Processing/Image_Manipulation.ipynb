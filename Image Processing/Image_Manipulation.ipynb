{
 "cells": [
  {
   "cell_type": "code",
   "execution_count": 1,
   "metadata": {},
   "outputs": [],
   "source": [
    "import cv2 as cv\n",
    "import numpy as np\n",
    "import matplotlib.pyplot as plt"
   ]
  },
  {
   "cell_type": "markdown",
   "metadata": {},
   "source": [
    "Drawing shapes"
   ]
  },
  {
   "cell_type": "code",
   "execution_count": 11,
   "metadata": {},
   "outputs": [],
   "source": [
    "cam = cv.VideoCapture(0)\n",
    "\n",
    "while True:\n",
    "    ret, frame = cam.read()\n",
    "    frame = cv.flip(frame, 1)\n",
    "\n",
    "    frame = cv.rectangle(frame, (150, 100),(450, 400),(150, 150, 0),5)\n",
    "    frame = cv.rectangle(frame, (145, 95),(455, 405),(150, 0, 150),5)\n",
    "    frame = cv.rectangle(frame, (140, 90),(460, 410),(0, 150, 150),5)\n",
    "\n",
    "    frame = cv.circle(frame,(300,250), 400, (255,0,255), 350)\n",
    "    \n",
    "    cv.imshow('frame', frame)\n",
    "\n",
    "    key = cv.waitKey(10)\n",
    "    if key == 27:\n",
    "        cam.release()\n",
    "        cv.destroyAllWindows()\n",
    "        break"
   ]
  },
  {
   "cell_type": "code",
   "execution_count": 16,
   "metadata": {},
   "outputs": [],
   "source": [
    "cam = cv.VideoCapture(0)\n",
    "\n",
    "while True:\n",
    "    _, img = cam.read()\n",
    "    img = cv.flip(img, 1)\n",
    "    img = cv.putText(img, 'Anurag Sharma', (10, 40), cv.FONT_HERSHEY_PLAIN, 3, (0, 0, 255), 3)\n",
    "    cv.imshow('Frame', img)\n",
    "\n",
    "    key = cv.waitKey(10)\n",
    "\n",
    "    if key == 27:\n",
    "        cam.release()\n",
    "        cv.destroyAllWindows()\n",
    "        break"
   ]
  },
  {
   "cell_type": "markdown",
   "metadata": {},
   "source": [
    "Edge Detection"
   ]
  },
  {
   "cell_type": "code",
   "execution_count": 19,
   "metadata": {},
   "outputs": [],
   "source": [
    "cam = cv.VideoCapture(0)\n",
    "\n",
    "while True:\n",
    "    _, img = cam.read()\n",
    "    img = cv.flip(img, 1)\n",
    "\n",
    "    edge_0 = cv.Canny(img, 50,150)\n",
    "    edge_1 = cv.Canny(img, 100,200)\n",
    "    edge_2 = cv.Canny(img, 150,250)\n",
    "    edge_3 = cv.Canny(img, 200,300)\n",
    "    edge_4 = cv.Canny(img, 250,350)\n",
    "    edge_5 = cv.Canny(img, 300,400)\n",
    "\n",
    "    cv.imshow('Frame', img)\n",
    "    cv.imshow('Edge 0', edge_0)\n",
    "    cv.imshow('Edge 1', edge_1)\n",
    "    cv.imshow('Edge 2', edge_2)\n",
    "    cv.imshow('Edge 3', edge_3)\n",
    "    cv.imshow('Edge 4', edge_4)\n",
    "    cv.imshow('Edge 5', edge_5)\n",
    "\n",
    "    key = cv.waitKey(10)\n",
    "\n",
    "    if key == 27:\n",
    "        cam.release()\n",
    "        cv.destroyAllWindows()\n",
    "        break"
   ]
  },
  {
   "cell_type": "markdown",
   "metadata": {},
   "source": [
    "realtime blur"
   ]
  },
  {
   "cell_type": "code",
   "execution_count": 22,
   "metadata": {},
   "outputs": [],
   "source": [
    "cam = cv.VideoCapture(0)\n",
    "\n",
    "while True:\n",
    "    _, img = cam.read()\n",
    "    img = cv.flip(img, 1)\n",
    "\n",
    "    blr_1 = cv.blur(img, (5,5))\n",
    "    blr_2 = cv.blur(img, (10,10))\n",
    "    blr_3 = cv.blur(img, (15,15))\n",
    "    blr_4 = cv.blur(img, (2,25))\n",
    "    blr_5 = cv.blur(img, (30,1))\n",
    "\n",
    "    cv.imshow('Frame', img)\n",
    "    cv.imshow('Blur 1', blr_1)\n",
    "    cv.imshow('Blur 2', blr_2)\n",
    "    cv.imshow('Blur 3', blr_3)\n",
    "    cv.imshow('Blur 4', blr_4)\n",
    "    cv.imshow('Blur 5', blr_5)\n",
    "\n",
    "    key = cv.waitKey(10)\n",
    "\n",
    "    if key == 27:\n",
    "        cam.release()\n",
    "        cv.destroyAllWindows()\n",
    "        break"
   ]
  },
  {
   "cell_type": "markdown",
   "metadata": {},
   "source": [
    "blur + edge detection"
   ]
  },
  {
   "cell_type": "code",
   "execution_count": 28,
   "metadata": {},
   "outputs": [],
   "source": [
    "cam = cv.VideoCapture(0)\n",
    "\n",
    "while True:\n",
    "    _, img = cam.read()\n",
    "    img = cv.flip(img, 1)\n",
    "\n",
    "    blr = cv.blur(img, (8,8))\n",
    "    edge = cv.Canny(img, 50,50)\n",
    "\n",
    "    final = cv.Canny(blr, 100,200)\n",
    "\n",
    "    cv.imshow('Frame', img)\n",
    "    cv.imshow('Blur', blr)\n",
    "    cv.imshow('Edge', edge)\n",
    "    cv.imshow('Final', final)\n",
    "\n",
    "\n",
    "    key = cv.waitKey(10)\n",
    "\n",
    "    if key == 27:\n",
    "        cam.release()\n",
    "        cv.destroyAllWindows()\n",
    "        break"
   ]
  },
  {
   "cell_type": "markdown",
   "metadata": {},
   "source": [
    "scaling images"
   ]
  },
  {
   "cell_type": "code",
   "execution_count": 39,
   "metadata": {},
   "outputs": [],
   "source": [
    "cam = cv.VideoCapture(0)\n",
    "\n",
    "while True:\n",
    "    _, img = cam.read()\n",
    "    img = cv.flip(img, 1)\n",
    "\n",
    "    cv.imshow('Frame', img) # while resizing the image, the aspect ratio must be maintained i.e the width and height must be in the same ratio as the original image\n",
    "    resized_1 = cv.resize(img, (img.shape[1]//2,img.shape[0]//2))\n",
    "    resized_2 = cv.resize(img, (img.shape[1]//4,img.shape[0]//4))\n",
    "    upscaled_resized_2 = cv.resize(resized_2, (resized_2.shape[1]*4,resized_2.shape[0]*4))\n",
    "\n",
    "    cv.imshow('Resized 1', resized_1)\n",
    "    cv.imshow('Resized 2', resized_2)\n",
    "    cv.imshow('Upscaled Resized 2', upscaled_resized_2)\n",
    "\n",
    "    key = cv.waitKey(10)\n",
    "\n",
    "    if key == 27:\n",
    "        cam.release()\n",
    "        cv.destroyAllWindows()\n",
    "        break"
   ]
  },
  {
   "cell_type": "code",
   "execution_count": 38,
   "metadata": {},
   "outputs": [
    {
     "name": "stdout",
     "output_type": "stream",
     "text": [
      "(480, 640, 3) (320, 320, 3) (160, 160, 3)\n"
     ]
    }
   ],
   "source": [
    "print(img.shape, resized_1.shape, resized_2.shape)"
   ]
  }
 ],
 "metadata": {
  "kernelspec": {
   "display_name": "Python 3",
   "language": "python",
   "name": "python3"
  },
  "language_info": {
   "codemirror_mode": {
    "name": "ipython",
    "version": 3
   },
   "file_extension": ".py",
   "mimetype": "text/x-python",
   "name": "python",
   "nbconvert_exporter": "python",
   "pygments_lexer": "ipython3",
   "version": "3.10.0"
  },
  "orig_nbformat": 4
 },
 "nbformat": 4,
 "nbformat_minor": 2
}
