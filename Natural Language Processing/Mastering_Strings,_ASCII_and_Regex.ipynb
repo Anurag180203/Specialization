{
  "nbformat": 4,
  "nbformat_minor": 0,
  "metadata": {
    "colab": {
      "provenance": []
    },
    "kernelspec": {
      "name": "python3",
      "display_name": "Python 3"
    },
    "language_info": {
      "name": "python"
    }
  },
  "cells": [
    {
      "cell_type": "markdown",
      "source": [
        "# **ASCII**"
      ],
      "metadata": {
        "id": "2My5vKWTPClY"
      }
    },
    {
      "cell_type": "code",
      "execution_count": 7,
      "metadata": {
        "id": "9mTbpKrV1ENs",
        "colab": {
          "base_uri": "https://localhost:8080/",
          "height": 53
        },
        "outputId": "b6ef5581-1efb-4db8-a580-75ac081cbd54"
      },
      "outputs": [
        {
          "output_type": "stream",
          "name": "stdout",
          "text": [
            "47 /\n"
          ]
        },
        {
          "output_type": "execute_result",
          "data": {
            "text/plain": [
              "'abcdefghijklmnopqrstuvwxyz'"
            ],
            "application/vnd.google.colaboratory.intrinsic+json": {
              "type": "string"
            }
          },
          "metadata": {},
          "execution_count": 7
        }
      ],
      "source": [
        "# print(ord('AB')) # generates error\n",
        "print(ord('/'),chr(47))\n",
        "''.join([chr(x) for x in range(ord('a'),ord('z')+1)])"
      ]
    },
    {
      "cell_type": "code",
      "source": [
        "s = \"The quick brown fox jumps over the lazy dog\"\n",
        "print(s.capitalize())\n",
        "def make_sent_capitalized(text):\n",
        "  if(len(text)==0): return \"\"\n",
        "  return text[0].upper()+text[1:].lower()\n",
        "print(make_sent_capitalized(s))\n",
        "print(make_sent_capitalized(\"HellO How ARE YOU?\"))"
      ],
      "metadata": {
        "colab": {
          "base_uri": "https://localhost:8080/"
        },
        "id": "n6jS4HLRD28p",
        "outputId": "0831749d-1c8c-414c-85a9-0b1fc5a4918c"
      },
      "execution_count": 12,
      "outputs": [
        {
          "output_type": "stream",
          "name": "stdout",
          "text": [
            "The quick brown fox jumps over the lazy dog\n",
            "The quick brown fox jumps over the lazy dog\n",
            "Hello how are you?\n"
          ]
        }
      ]
    },
    {
      "cell_type": "code",
      "source": [
        "def uppercase(text):\n",
        "  ans=\"\"\n",
        "  for i in text:\n",
        "    if ord(i)>=ord('a') and ord(i)<=ord('z'):\n",
        "      ans+=chr(ord(i)-32)\n",
        "    else:\n",
        "      ans+=i\n",
        "  return ans\n",
        "def lowercase(text):\n",
        "  ans=\"\"\n",
        "  for i in text:\n",
        "    if ord(i)>=ord('A') and ord(i)<=ord('Z'):\n",
        "      ans+=chr(ord(i)+32)\n",
        "    else:\n",
        "      ans+=i\n",
        "  return ans;\n",
        "print(uppercase(\"Hello,HOW are You?\"))\n",
        "print(lowercase(\"Hello,HOW are You?\"))\n",
        "\n",
        "print(\"Hello,HOW are You?\".upper())\n",
        "print(\"Hello,HOW are You?\".lower())"
      ],
      "metadata": {
        "colab": {
          "base_uri": "https://localhost:8080/"
        },
        "id": "RNOKZiGyFTqp",
        "outputId": "a5016a55-83ff-4e81-8091-df2c912f4143"
      },
      "execution_count": 19,
      "outputs": [
        {
          "output_type": "stream",
          "name": "stdout",
          "text": [
            "HELLO,HOW ARE YOU?\n",
            "hello,how are you?\n",
            "HELLO,HOW ARE YOU?\n",
            "hello,how are you?\n"
          ]
        }
      ]
    },
    {
      "cell_type": "code",
      "source": [
        "# funtions -- isalpha(),isalnum(),isdigit(),islower(),isupper(),isnumeric()\n",
        "# The isdigit() method accepts only decimals, subscripts, and superscripts.\n",
        "# The isnumeric() function supports Digits, Vulgar Fractions, Subscripts, Superscripts, Roman Numerals, and Currency Numerators.\n",
        "txt = \"Hello everyone, welcome to GFG\"\n",
        "print(txt.title())\n",
        "def titlecase(text):\n",
        "  return ' '.join([i[0].upper()+i[1:].lower() for i in text.split()])\n",
        "print(titlecase(txt))\n",
        "\n",
        "# for creating a library out of this file save it as .py and put it in same folder of file in which you want to use it\n",
        "# use import filename(without extension) and then use it as you want"
      ],
      "metadata": {
        "colab": {
          "base_uri": "https://localhost:8080/"
        },
        "id": "xiikyFIWIRQf",
        "outputId": "0d87a34c-d0ab-4545-e5eb-042ccf0c5b10"
      },
      "execution_count": 21,
      "outputs": [
        {
          "output_type": "stream",
          "name": "stdout",
          "text": [
            "Hello Everyone, Welcome To Gfg\n",
            "Hello Everyone, Welcome To Gfg\n"
          ]
        }
      ]
    },
    {
      "cell_type": "markdown",
      "source": [
        "# **Regex**"
      ],
      "metadata": {
        "id": "9JednGztO-z3"
      }
    },
    {
      "cell_type": "markdown",
      "source": [
        "## searching once"
      ],
      "metadata": {
        "id": "yZJWYURRdiTl"
      }
    },
    {
      "cell_type": "code",
      "source": [
        "import re\n",
        "srch = re.search('you','Hello, How are you?')"
      ],
      "metadata": {
        "id": "DbJwof1CO-mH"
      },
      "execution_count": 23,
      "outputs": []
    },
    {
      "cell_type": "code",
      "source": [
        "print(srch.span(),srch.start(),srch.end())"
      ],
      "metadata": {
        "colab": {
          "base_uri": "https://localhost:8080/"
        },
        "id": "kq4H1I4tdXnM",
        "outputId": "0b000c7c-c5a2-474b-949c-f9d5ed51307c"
      },
      "execution_count": 24,
      "outputs": [
        {
          "output_type": "stream",
          "name": "stdout",
          "text": [
            "(15, 18) 15 18\n"
          ]
        }
      ]
    },
    {
      "cell_type": "markdown",
      "source": [
        "## findall"
      ],
      "metadata": {
        "id": "hQAC887Hd6Se"
      }
    },
    {
      "cell_type": "code",
      "source": [
        "a = 'Hello how are area you'\n",
        "b = 'are'\n",
        "print(len(re.findall(b,a)))\n",
        "re.findall(b,a)"
      ],
      "metadata": {
        "colab": {
          "base_uri": "https://localhost:8080/"
        },
        "id": "wosv_Q1Td8E_",
        "outputId": "de8583e2-d1c8-4e56-8c94-7fc78631396a"
      },
      "execution_count": 27,
      "outputs": [
        {
          "output_type": "stream",
          "name": "stdout",
          "text": [
            "2\n"
          ]
        },
        {
          "output_type": "execute_result",
          "data": {
            "text/plain": [
              "['are', 'are']"
            ]
          },
          "metadata": {},
          "execution_count": 27
        }
      ]
    },
    {
      "cell_type": "markdown",
      "source": [
        "## finditer"
      ],
      "metadata": {
        "id": "AnjDkLTAefPd"
      }
    },
    {
      "cell_type": "code",
      "source": [
        "for s in re.finditer(b,a):\n",
        "  print(s.span())"
      ],
      "metadata": {
        "colab": {
          "base_uri": "https://localhost:8080/"
        },
        "id": "0WWeT-I2eg2u",
        "outputId": "59632cd5-16bc-45ff-9dc9-18bcca97f818"
      },
      "execution_count": 28,
      "outputs": [
        {
          "output_type": "stream",
          "name": "stdout",
          "text": [
            "(10, 13)\n",
            "(14, 17)\n"
          ]
        }
      ]
    },
    {
      "cell_type": "markdown",
      "source": [
        "## creating regex"
      ],
      "metadata": {
        "id": "rDikTnCqe07F"
      }
    },
    {
      "cell_type": "code",
      "source": [
        "txt = 'My telephone no. is 8343843973'\n",
        "pattern = \"\\d{10}\"\n",
        "re.search(pattern,txt)"
      ],
      "metadata": {
        "colab": {
          "base_uri": "https://localhost:8080/"
        },
        "id": "uxjGWkaZe3E_",
        "outputId": "29107044-95cf-4f3d-9b0b-9e45923a80bd"
      },
      "execution_count": 31,
      "outputs": [
        {
          "output_type": "execute_result",
          "data": {
            "text/plain": [
              "<re.Match object; span=(20, 30), match='8343843973'>"
            ]
          },
          "metadata": {},
          "execution_count": 31
        }
      ]
    },
    {
      "cell_type": "code",
      "source": [
        "txt = 'My telephone no. is 834-3843-973'\n",
        "pattern = \"\\d{3}-\\d{4}-\\d{3}\"\n",
        "print(re.search(pattern,txt).group())\n",
        "re.search(pattern,txt)"
      ],
      "metadata": {
        "colab": {
          "base_uri": "https://localhost:8080/"
        },
        "id": "jSZORSoifZMn",
        "outputId": "81fe0e84-7f7b-4d8c-e29b-e545f03c0850"
      },
      "execution_count": 34,
      "outputs": [
        {
          "output_type": "stream",
          "name": "stdout",
          "text": [
            "834-3843-973\n"
          ]
        },
        {
          "output_type": "execute_result",
          "data": {
            "text/plain": [
              "<re.Match object; span=(20, 32), match='834-3843-973'>"
            ]
          },
          "metadata": {},
          "execution_count": 34
        }
      ]
    },
    {
      "cell_type": "code",
      "source": [
        "txt = 'My telephone no. is 834-3843-973'\n",
        "pattern = \"\\w{3}\"\n",
        "for w in re.finditer(pattern,txt):\n",
        "  print(w);"
      ],
      "metadata": {
        "colab": {
          "base_uri": "https://localhost:8080/"
        },
        "id": "cs-NZ5Cmfymm",
        "outputId": "001494d0-4f03-4a14-916a-91a88bea358e"
      },
      "execution_count": 35,
      "outputs": [
        {
          "output_type": "stream",
          "name": "stdout",
          "text": [
            "<re.Match object; span=(3, 6), match='tel'>\n",
            "<re.Match object; span=(6, 9), match='eph'>\n",
            "<re.Match object; span=(9, 12), match='one'>\n",
            "<re.Match object; span=(20, 23), match='834'>\n",
            "<re.Match object; span=(24, 27), match='384'>\n",
            "<re.Match object; span=(29, 32), match='973'>\n"
          ]
        }
      ]
    },
    {
      "cell_type": "markdown",
      "source": [
        "## finding pattern with specific end or start"
      ],
      "metadata": {
        "id": "sT9lUL1XjPgf"
      }
    },
    {
      "cell_type": "code",
      "source": [
        "re.findall('.at','The rat sat on the mat and attacked by a cat')"
      ],
      "metadata": {
        "colab": {
          "base_uri": "https://localhost:8080/"
        },
        "id": "aVKlGAmWg15t",
        "outputId": "ad5948e1-c5ac-4d0c-ccd2-bdab4d229af4"
      },
      "execution_count": 37,
      "outputs": [
        {
          "output_type": "execute_result",
          "data": {
            "text/plain": [
              "['rat', 'sat', 'mat', ' at', 'cat']"
            ]
          },
          "metadata": {},
          "execution_count": 37
        }
      ]
    },
    {
      "cell_type": "code",
      "source": [
        "print(re.findall('\\d$','This is no. 6'), re.findall('^\\d','4 is a no.'))"
      ],
      "metadata": {
        "colab": {
          "base_uri": "https://localhost:8080/"
        },
        "id": "RNqdFDQmjlPW",
        "outputId": "df04c2a0-aab5-48c6-c6c2-2654a3f1ddf0"
      },
      "execution_count": 39,
      "outputs": [
        {
          "output_type": "stream",
          "name": "stdout",
          "text": [
            "['6'] ['4']\n"
          ]
        }
      ]
    },
    {
      "cell_type": "code",
      "source": [
        "print(re.findall('[A-Z]','Welcome to GFG3'),re.findall('[A-Za-z]','Welcome to GFG3'),re.findall('[a-z]','Welcome to GFG3'),re.findall('[A-Za-z0-9]','Welcome to GFG3'),sep=\"\\n\")"
      ],
      "metadata": {
        "colab": {
          "base_uri": "https://localhost:8080/"
        },
        "id": "VJ9NvbslkFEF",
        "outputId": "4da80b9e-8421-40da-c4d9-8d819f42dadf"
      },
      "execution_count": 43,
      "outputs": [
        {
          "output_type": "stream",
          "name": "stdout",
          "text": [
            "['W', 'G', 'F', 'G']\n",
            "['W', 'e', 'l', 'c', 'o', 'm', 'e', 't', 'o', 'G', 'F', 'G']\n",
            "['e', 'l', 'c', 'o', 'm', 'e', 't', 'o']\n",
            "['W', 'e', 'l', 'c', 'o', 'm', 'e', 't', 'o', 'G', 'F', 'G', '3']\n"
          ]
        }
      ]
    },
    {
      "cell_type": "markdown",
      "source": [
        "## Removing Special Characters"
      ],
      "metadata": {
        "id": "6lWj7N7sm7O9"
      }
    },
    {
      "cell_type": "code",
      "source": [
        "txt = 'Eshant is happy! But, wh%y is$ he not playing?'\n",
        "# re.findall('[a-zA-z0-9]+',txt)\n",
        "''.join(re.findall('[^!,.?$*%]+',txt))"
      ],
      "metadata": {
        "id": "3Cclp1MekhoG",
        "outputId": "42438cdf-8154-443b-c59c-810888339198",
        "colab": {
          "base_uri": "https://localhost:8080/",
          "height": 36
        }
      },
      "execution_count": 57,
      "outputs": [
        {
          "output_type": "execute_result",
          "data": {
            "text/plain": [
              "'Eshant is happy But why is he not playing'"
            ],
            "application/vnd.google.colaboratory.intrinsic+json": {
              "type": "string"
            }
          },
          "metadata": {},
          "execution_count": 57
        }
      ]
    },
    {
      "cell_type": "code",
      "source": [
        "txt = \"I'm Anurag and I am 24\"\n",
        "print(''.join(re.findall('\\D',txt)))"
      ],
      "metadata": {
        "id": "5D96y_9rn5g2",
        "outputId": "e9ecfadf-b939-4967-d211-bf668416d6e6",
        "colab": {
          "base_uri": "https://localhost:8080/"
        }
      },
      "execution_count": 59,
      "outputs": [
        {
          "output_type": "stream",
          "name": "stdout",
          "text": [
            "I'm Anurag and I am \n"
          ]
        }
      ]
    },
    {
      "cell_type": "code",
      "source": [
        "txt = \"I'm Anurag and I am 24\"\n",
        "print(''.join(re.findall('\\S',txt)))"
      ],
      "metadata": {
        "id": "gtjPO9UnoRQm",
        "outputId": "5607283a-6499-4e7f-c719-7f792384e352",
        "colab": {
          "base_uri": "https://localhost:8080/"
        }
      },
      "execution_count": 60,
      "outputs": [
        {
          "output_type": "stream",
          "name": "stdout",
          "text": [
            "I'mAnuragandIam24\n"
          ]
        }
      ]
    },
    {
      "cell_type": "code",
      "source": [
        "txt = \"I'm Anurag and I am 24\"\n",
        "print(''.join(re.findall('\\w',txt)))"
      ],
      "metadata": {
        "id": "uLeKhkZtoTiu",
        "outputId": "7a13160c-e5b9-47d8-84f5-91461030901d",
        "colab": {
          "base_uri": "https://localhost:8080/"
        }
      },
      "execution_count": 62,
      "outputs": [
        {
          "output_type": "stream",
          "name": "stdout",
          "text": [
            "ImAnuragandIam24\n"
          ]
        }
      ]
    },
    {
      "cell_type": "code",
      "source": [
        "txt = \"Hello I am studying from Geeks-for-Geeks and it is good, Let's see how this work-it-out\"\n",
        "re.findall('\\w+-\\w+-\\w+',txt)"
      ],
      "metadata": {
        "id": "WvK29BS3ogLF",
        "outputId": "a4576c58-1a35-4b2a-d35a-9d3cda125e2c",
        "colab": {
          "base_uri": "https://localhost:8080/"
        }
      },
      "execution_count": 63,
      "outputs": [
        {
          "output_type": "execute_result",
          "data": {
            "text/plain": [
              "['Geeks-for-Geeks', 'work-it-out']"
            ]
          },
          "metadata": {},
          "execution_count": 63
        }
      ]
    },
    {
      "cell_type": "code",
      "source": [
        "for num in ['344-3151313-3151','313414-3113-3151','34-3113-31512513']:\n",
        "  print(re.findall('\\d+-\\d+-\\d+',num)[0].replace('-',''))"
      ],
      "metadata": {
        "id": "6pfqzR-ppizl",
        "outputId": "c1c342fd-b0ae-4ce3-c720-22cd5fae7bae",
        "colab": {
          "base_uri": "https://localhost:8080/"
        }
      },
      "execution_count": 69,
      "outputs": [
        {
          "output_type": "stream",
          "name": "stdout",
          "text": [
            "34431513133151\n",
            "31341431133151\n",
            "34311331512513\n"
          ]
        }
      ]
    },
    {
      "cell_type": "code",
      "source": [],
      "metadata": {
        "id": "cKcrz6L_rpaP"
      },
      "execution_count": null,
      "outputs": []
    },
    {
      "cell_type": "markdown",
      "source": [
        "## email regex"
      ],
      "metadata": {
        "id": "izblMnTLqIKB"
      }
    },
    {
      "cell_type": "code",
      "source": [
        "pat = '^[A-Za-z0-9]+@[a-z]+.[\\w]+$'\n",
        "emails = ['anura.g1802@gmail.com','*!2anurag1802@gmail.com','anurag1802@gmail.com','anmol@hotmail.org','abcd@nv.in,','kamini@gfg.in']\n",
        "for mail in emails:\n",
        "  print(re.search(pat,mail))"
      ],
      "metadata": {
        "id": "aRYPgPztp_nQ",
        "outputId": "0cc76ce1-d4d8-49aa-cde6-2b77087dd4cd",
        "colab": {
          "base_uri": "https://localhost:8080/"
        }
      },
      "execution_count": 75,
      "outputs": [
        {
          "output_type": "stream",
          "name": "stdout",
          "text": [
            "None\n",
            "None\n",
            "<re.Match object; span=(0, 20), match='anurag1802@gmail.com'>\n",
            "<re.Match object; span=(0, 17), match='anmol@hotmail.org'>\n",
            "None\n",
            "<re.Match object; span=(0, 13), match='kamini@gfg.in'>\n"
          ]
        }
      ]
    },
    {
      "cell_type": "code",
      "source": [
        "pat = '^[A-Za-z0-9]+@[A-Za-z]+.(org|edu|gov|net|in|com)$'\n",
        "emails = ['A@gmail.com','A@hotmail.in','wwwrwgn@lpi.gov']\n",
        "for mail in emails:\n",
        "  print(re.search(pat,mail))"
      ],
      "metadata": {
        "id": "FPY_FGROrpse",
        "outputId": "2996fec7-55e9-43eb-b82e-07f68354cfb4",
        "colab": {
          "base_uri": "https://localhost:8080/"
        }
      },
      "execution_count": 77,
      "outputs": [
        {
          "output_type": "stream",
          "name": "stdout",
          "text": [
            "<re.Match object; span=(0, 11), match='A@gmail.com'>\n",
            "<re.Match object; span=(0, 12), match='A@hotmail.in'>\n",
            "<re.Match object; span=(0, 15), match='wwwrwgn@lpi.gov'>\n"
          ]
        }
      ]
    },
    {
      "cell_type": "markdown",
      "source": [
        "## without regex"
      ],
      "metadata": {
        "id": "nFVjW9rVuf-u"
      }
    },
    {
      "cell_type": "code",
      "source": [
        "txt = 'the number is 89331413 not 31947141' #find numbers\n",
        "s=0\n",
        "for i in range(len(txt)):\n",
        "  # if ord(txt[i])>=ord('0') and ord(txt[i])<=ord('9'):\n",
        "  if(txt[i].isdigit()):\n",
        "    s+=1\n",
        "  else:\n",
        "    if s!=0: print(txt[i-s:i])\n",
        "    s=0\n",
        "if s!=0:\n",
        "  print(txt[-s:])"
      ],
      "metadata": {
        "id": "izBk4ShBuj0e",
        "outputId": "3ea38b62-2471-46d6-8245-44c463cfa5ef",
        "colab": {
          "base_uri": "https://localhost:8080/"
        }
      },
      "execution_count": 87,
      "outputs": [
        {
          "output_type": "stream",
          "name": "stdout",
          "text": [
            "89331413\n",
            "31947141\n"
          ]
        }
      ]
    },
    {
      "cell_type": "code",
      "source": [
        "txt = 'AI is having the capability having to revolutionalize all the industries. The Industry is ready for a big change'\n",
        "word = 'the'\n",
        "for w in range(len(txt)-len(word)):\n",
        "  if word.lower()==txt[w:len(word)+w].lower():\n",
        "    print(w,w+len(word))"
      ],
      "metadata": {
        "id": "l0E18i2ew5zT",
        "outputId": "488b6f2b-2d8d-4e2e-a286-095ed34ffa11",
        "colab": {
          "base_uri": "https://localhost:8080/"
        }
      },
      "execution_count": 96,
      "outputs": [
        {
          "output_type": "stream",
          "name": "stdout",
          "text": [
            "13 16\n",
            "58 61\n",
            "74 77\n"
          ]
        }
      ]
    },
    {
      "cell_type": "code",
      "source": [
        "txt = 'AI is having the capability having to revolutionalize all the industries. The Industry is ready for a big change'\n",
        "word = 'in' # starting with in\n",
        "for w in txt.split():\n",
        "  if w[:2].lower() == word.lower():\n",
        "    print(w)\n",
        "print('--------')\n",
        "word = 'he' # starting with in\n",
        "for w in txt.split():\n",
        "  if w[-len(word):].lower() == word.lower():\n",
        "    print(w)"
      ],
      "metadata": {
        "id": "Soe2QTcOyaj-",
        "outputId": "686097d9-1448-497f-9510-d7cf7dd0f68e",
        "colab": {
          "base_uri": "https://localhost:8080/"
        }
      },
      "execution_count": 100,
      "outputs": [
        {
          "output_type": "stream",
          "name": "stdout",
          "text": [
            "industries.\n",
            "Industry\n",
            "--------\n",
            "the\n",
            "the\n",
            "The\n"
          ]
        }
      ]
    },
    {
      "cell_type": "code",
      "source": [
        "emails = ['anura.g1802@gmail.com','*!2anurag1802@gmail.com','anurag1802@gmail.com','anmol@hotmail.org','abcd@nv.in,','kamini@gfg.in','kamini@gfg.in.gov.co']\n",
        "user_ID = []\n",
        "host_name = []\n",
        "domain_type = []\n",
        "for email in emails:\n",
        "  user_ID.append(email.split('@')[-2])\n",
        "  host_name.append(email.split('@')[-1].split('.')[0])\n",
        "  domain_type.append('.'.join(email.split('@')[-1].split('.')[1:]))\n",
        "print(user_ID)\n",
        "print(host_name)\n",
        "print(domain_type)"
      ],
      "metadata": {
        "id": "4USk9vzO1-I_",
        "outputId": "5a51e17d-d55f-4368-bb24-3c739b29fbf0",
        "colab": {
          "base_uri": "https://localhost:8080/"
        }
      },
      "execution_count": 102,
      "outputs": [
        {
          "output_type": "stream",
          "name": "stdout",
          "text": [
            "['anura.g1802', '*!2anurag1802', 'anurag1802', 'anmol', 'abcd', 'kamini', 'kamini']\n",
            "['gmail', 'gmail', 'gmail', 'hotmail', 'nv', 'gfg', 'gfg']\n",
            "['com', 'com', 'com', 'org', 'in,', 'in', 'in.gov.co']\n"
          ]
        }
      ]
    }
  ]
}