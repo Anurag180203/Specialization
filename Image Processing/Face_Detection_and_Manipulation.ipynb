{
 "cells": [
  {
   "cell_type": "code",
   "execution_count": 9,
   "metadata": {},
   "outputs": [],
   "source": [
    "import numpy as np\n",
    "import cv2 as cv\n",
    "import matplotlib.pyplot as plt"
   ]
  },
  {
   "cell_type": "code",
   "execution_count": 5,
   "metadata": {},
   "outputs": [],
   "source": [
    "classifier = cv.CascadeClassifier('haarcascade_frontalface_default.xml')\n",
    "cam = cv.VideoCapture(0)\n",
    "\n",
    "while True:\n",
    "    ret,frame = cam.read()\n",
    "    frame = cv.flip(frame,1)\n",
    "\n",
    "    try:\n",
    "        faces = classifier.detectMultiScale(frame, 1.1, 5)\n",
    "        for (x,y,w,h) in faces:\n",
    "            frame = cv.rectangle(frame, (x,y), (x+w,y+h), (255,0,0), 2)\n",
    "    except:\n",
    "        pass\n",
    "    cv.imshow('frame',frame)\n",
    "\n",
    "    key = cv.waitKey(10)\n",
    "\n",
    "    if key == 27:\n",
    "        cam.release()\n",
    "        cv.destroyAllWindows()\n",
    "        break"
   ]
  },
  {
   "cell_type": "code",
   "execution_count": 6,
   "metadata": {},
   "outputs": [
    {
     "name": "stdout",
     "output_type": "stream",
     "text": [
      "(480, 640, 3) 243 116 433 306\n"
     ]
    }
   ],
   "source": [
    "print(frame.shape, x, y, w+x, h+y)"
   ]
  },
  {
   "cell_type": "markdown",
   "metadata": {},
   "source": [
    "resizing face"
   ]
  },
  {
   "cell_type": "code",
   "execution_count": 10,
   "metadata": {},
   "outputs": [],
   "source": [
    "classifier = cv.CascadeClassifier('haarcascade_frontalface_default.xml')\n",
    "cam = cv.VideoCapture(0)\n",
    "\n",
    "while True:\n",
    "    ret,frame = cam.read()\n",
    "    frame = cv.flip(frame,1)\n",
    "\n",
    "    faces = classifier.detectMultiScale(frame, 1.1, 5)\n",
    "\n",
    "    for f in faces:                             # Going through Each Face Detected\n",
    "        if f[-1] == max(faces[:,-1]):           # Finding the Face with Maximum Area # for seeing how this works check faces and f by printing \n",
    "            break \n",
    "\n",
    "    if (len(faces) >= 1):                       # Drawing Rectange on the Face\n",
    "        x = f[0] \n",
    "        y = f[1] \n",
    "        w = f[2]\n",
    "        h = f[3]\n",
    "\n",
    "        cv.rectangle(frame, (x,y),(x+w,y+h) , (0,180,0), 2)   \n",
    "        face = frame[y:y+h, x:x+w]\n",
    "        \n",
    "        face = cv.resize(face, (150,150))\n",
    "        cv.imshow('Face'   , face)\n",
    "\n",
    "    cv.imshow('Frame'  , frame )\n",
    "\n",
    "    key = cv.waitKey(10)\n",
    "\n",
    "    if key == 27:\n",
    "        cam.release()\n",
    "        cv.destroyAllWindows()\n",
    "        break"
   ]
  },
  {
   "cell_type": "markdown",
   "metadata": {},
   "source": [
    "blurring the face"
   ]
  },
  {
   "cell_type": "code",
   "execution_count": 3,
   "metadata": {},
   "outputs": [],
   "source": [
    "import cv2 as cv\n",
    "import numpy as np\n",
    "classifier = cv.CascadeClassifier('haarcascade_frontalface_default.xml')\n",
    "\n",
    "cam = cv.VideoCapture(0)\n",
    "\n",
    "while True:\n",
    "    \n",
    "    _, img = cam.read()\n",
    "    img = cv.flip(img,1)\n",
    "    \n",
    "    faces = classifier.detectMultiScale(img, 1.1, 5)\n",
    "    \n",
    "    for f in faces:\n",
    "        if f[-1] == max(faces[:,-1]):\n",
    "            break\n",
    "\n",
    "    if (len(faces) >= 1):\n",
    "        x = f[0] \n",
    "        y = f[1] \n",
    "        w = f[2]\n",
    "        h = f[3]\n",
    "\n",
    "        face = img[y:y+h, x:x+w]                 # Getting the Face Area from Video Feed\n",
    "        face = cv.blur(face, (32,32))            # Applying Blur on the Face\n",
    "        img[y:y+h, x:x+w] = face                 # Apply Blured Face on Video Feed\n",
    "        cv.imshow('Face'   , face)\n",
    "    \n",
    "    # face = img[y:y+h, x:x+w]                 # will blur anything on face later as well\n",
    "    # face = cv.blur(face, (32,32))            \n",
    "    # img[y:y+h, x:x+w] = face                 \n",
    "    # cv.imshow('Face'   , face)\n",
    "        \n",
    "\n",
    "    cv.imshow('Frame'  , img )\n",
    "    \n",
    "    if cv.waitKey(1) == 27:\n",
    "        cam.release()\n",
    "        cv.destroyAllWindows()\n",
    "        break"
   ]
  },
  {
   "cell_type": "markdown",
   "metadata": {},
   "source": [
    "face black"
   ]
  },
  {
   "cell_type": "code",
   "execution_count": 13,
   "metadata": {},
   "outputs": [],
   "source": [
    "import cv2 as cv\n",
    "import numpy as np\n",
    "\n",
    "classifier = cv.CascadeClassifier('haarcascade_frontalface_default.xml')\n",
    "cam = cv.VideoCapture(0)\n",
    "\n",
    "while True:\n",
    "    \n",
    "    _, img = cam.read()\n",
    "    img = cv.flip(img,1)\n",
    "    \n",
    "    faces = classifier.detectMultiScale(img, 1.1, 5)\n",
    "    \n",
    "    for f in faces:\n",
    "        if f[-1] == max(faces[:,-1]):\n",
    "            break\n",
    "\n",
    "    x = f[0] \n",
    "    y = f[1] \n",
    "    w = f[2]\n",
    "    h = f[3]\n",
    "\n",
    "    face = img[y:y+h, x:x+w]\n",
    "    \n",
    "    black = np.zeros((face.shape), dtype = int)\n",
    "    \n",
    "    img[y:y+h, x:x+w] = black\n",
    "\n",
    "    cv.imshow('Frame'  , img )\n",
    "    cv.imshow('Face'   , face)\n",
    "    \n",
    "    if cv.waitKey(1) == 27:\n",
    "        cam.release()\n",
    "        cv.destroyAllWindows()\n",
    "        break"
   ]
  },
  {
   "cell_type": "code",
   "execution_count": 14,
   "metadata": {},
   "outputs": [],
   "source": [
    "import cv2 as cv\n",
    "import numpy as np\n",
    "\n",
    "classifier = cv.CascadeClassifier('haarcascade_frontalface_default.xml')\n",
    "cam = cv.VideoCapture(0)\n",
    "\n",
    "while True:\n",
    "    \n",
    "    _, img = cam.read()\n",
    "    img = cv.flip(img,1)\n",
    "    \n",
    "    faces = classifier.detectMultiScale(img, 1.1, 5)\n",
    "    \n",
    "    for f in faces:\n",
    "        if f[-1] == max(faces[:,-1]):\n",
    "            break\n",
    "\n",
    "    x = f[0] \n",
    "    y = f[1] \n",
    "    w = f[2]\n",
    "    h = f[3]\n",
    "    \n",
    "    circle_x = x + int(w/2)\n",
    "    circle_y = y + int(h/2)\n",
    "    \n",
    "    cv.circle(img, (circle_x, circle_y), int(w/1.5), (110,180,68),-1)\n",
    "\n",
    "    cv.imshow('Frame'  , img )\n",
    "    \n",
    "    if cv.waitKey(1) == 27:\n",
    "        cam.release()\n",
    "        cv.destroyAllWindows()\n",
    "        break"
   ]
  },
  {
   "cell_type": "markdown",
   "metadata": {},
   "source": [
    "face extraction from images"
   ]
  },
  {
   "cell_type": "code",
   "execution_count": 2,
   "metadata": {},
   "outputs": [
    {
     "name": "stdout",
     "output_type": "stream",
     "text": [
      "People/IMG_1.png is exported\n",
      "People/IMG_2.png is exported\n",
      "People/IMG_3.png is exported\n",
      "People/IMG_4.png is exported\n",
      "People/IMG_5.png is exported\n",
      "People/IMG_6.png is exported\n"
     ]
    }
   ],
   "source": [
    "import os\n",
    "import cv2 as cv\n",
    "import numpy as np\n",
    "\n",
    "if not os.path.exists('People'):\n",
    "    os.mkdir('People')\n",
    "\n",
    "img = cv.imread('group.png')\n",
    "\n",
    "classifier = cv.CascadeClassifier('haarcascade_frontalface_default.xml')\n",
    "faces = classifier.detectMultiScale(img, 1.1, 5)\n",
    "\n",
    "\n",
    "def save(frame, folder_name): \n",
    "    name_img = len(os.listdir(folder_name)) + 1\n",
    "    name_img = folder_name + \"/IMG_\" + str(name_img) + '.png'\n",
    "    cv.imwrite(name_img, frame)\n",
    "    print(name_img ,'is exported')\n",
    "\n",
    "\n",
    "for (x,y,w,h) in faces:\n",
    "\n",
    "    face = img[y:y+h, x:x+w]\n",
    "    cv.imshow('Face'   , face)\n",
    "    \n",
    "    \n",
    "    if cv.waitKey(0) == 13:         # Save the Image | 13  = Enter Key\n",
    "        save(face, 'People')\n",
    "    \n",
    "    elif cv.waitKey(0) == 27:      # Skip the Image | 27 = ESC Key\n",
    "        pass\n",
    "\n",
    "    else:\n",
    "        cv.destroyAllWindows()\n",
    "        break\n",
    "    "
   ]
  }
 ],
 "metadata": {
  "kernelspec": {
   "display_name": "Python 3",
   "language": "python",
   "name": "python3"
  },
  "language_info": {
   "codemirror_mode": {
    "name": "ipython",
    "version": 3
   },
   "file_extension": ".py",
   "mimetype": "text/x-python",
   "name": "python",
   "nbconvert_exporter": "python",
   "pygments_lexer": "ipython3",
   "version": "3.10.0"
  },
  "orig_nbformat": 4
 },
 "nbformat": 4,
 "nbformat_minor": 2
}
