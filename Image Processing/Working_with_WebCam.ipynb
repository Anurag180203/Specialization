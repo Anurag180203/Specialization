{
 "cells": [
  {
   "cell_type": "code",
   "execution_count": 1,
   "metadata": {},
   "outputs": [],
   "source": [
    "import cv2 as cv\n",
    "import numpy as np\n",
    "import matplotlib.pyplot as plt"
   ]
  },
  {
   "cell_type": "code",
   "execution_count": 9,
   "metadata": {},
   "outputs": [],
   "source": [
    "cam = cv.VideoCapture(0)\n",
    "\n",
    "while True:\n",
    "    ret, frame = cam.read()\n",
    "    vertical_flip = cv.flip(frame, 0)\n",
    "    horizontal_flip = cv.flip(frame, 1)\n",
    "    # -1 for both axes\n",
    "    cv.imshow('frame', frame)\n",
    "\n",
    "    cv.imshow('vertical_flip', vertical_flip)\n",
    "    cv.imshow('horizontal_flip', horizontal_flip)\n",
    "    \n",
    "    cropped = frame[100:300,200:500,:]\n",
    "    cv.imshow('cropped', cropped)\n",
    "    \n",
    "    key = cv.waitKey(10)\n",
    "    if key == 27:\n",
    "        cam.release()\n",
    "        cv.destroyAllWindows()\n",
    "        break"
   ]
  },
  {
   "cell_type": "code",
   "execution_count": 8,
   "metadata": {},
   "outputs": [],
   "source": [
    "# HSV stands for Hue, Saturation and Value. \n",
    "\n",
    "# Hue defines the main dominating colour\n",
    "# Saturation defines how bright the colours are in the video \n",
    "# Value will tell us basically how dark the colour is in darkness\n",
    "cam = cv.VideoCapture(0)\n",
    "\n",
    "while True:\n",
    "    ret, frame = cam.read()\n",
    "    cv.imshow('frame', frame)\n",
    "\n",
    "    hsv = cv.cvtColor(frame, cv.COLOR_BGR2HSV)\n",
    "    cv.imshow('hsv', hsv) # hsv -- hue saturation value -- hue is the color, saturation is the intensity of the color, value is the brightness of the color\n",
    "\n",
    "    r = frame[:,:,0]\n",
    "    g = frame[:,:,1]\n",
    "    b = frame[:,:,2]\n",
    "\n",
    "    h = hsv[:,:,0]\n",
    "    s = hsv[:,:,1]\n",
    "    v = hsv[:,:,2]\n",
    "\n",
    "    cv.imshow('red', r)\n",
    "    cv.imshow('green', g)\n",
    "    cv.imshow('blue', b)\n",
    "\n",
    "    cv.imshow('hue', h)\n",
    "    cv.imshow('saturation', s)\n",
    "    cv.imshow('value', v)\n",
    "\n",
    "    key = cv.waitKey(10)\n",
    "    if key == 27:\n",
    "        cam.release()\n",
    "        cv.destroyAllWindows()\n",
    "        break"
   ]
  },
  {
   "cell_type": "markdown",
   "metadata": {},
   "source": [
    "### Capturing Selfies"
   ]
  },
  {
   "cell_type": "code",
   "execution_count": 14,
   "metadata": {},
   "outputs": [],
   "source": [
    "cam = cv.VideoCapture(0)\n",
    "\n",
    "while True:\n",
    "    _ , img = cam.read()\n",
    "    img = cv.flip(img,1)\n",
    "    key = cv.waitKey(20)\n",
    "\n",
    "    cv.imshow(\"Frame\",img)\n",
    "\n",
    "    gray = cv.cvtColor(img, cv.COLOR_BGR2GRAY)\n",
    "    hsv = cv.cvtColor(img, cv.COLOR_BGR2HSV)\n",
    "\n",
    "    if (key==27):\n",
    "        cam.release()\n",
    "        cv.destroyAllWindows()\n",
    "        break\n",
    "\n",
    "    if (key == 13):\n",
    "        cv.imwrite(\"selfie.jpg\",img)\n",
    "        cv.imwrite(\"selfie_gray.jpg\",gray)\n",
    "        cv.imwrite(\"selfie_hsv.jpg\",hsv)\n",
    "        cam.release()\n",
    "        cv.destroyAllWindows()\n",
    "        break"
   ]
  },
  {
   "cell_type": "code",
   "execution_count": 19,
   "metadata": {},
   "outputs": [],
   "source": [
    "import os\n",
    "if not os.path.exists(\"Selfies\"):\n",
    "    os.mkdir(\"Selfies\")\n",
    "cam = cv.VideoCapture(0)\n",
    "\n",
    "c = 1\n",
    "\n",
    "while True:\n",
    "    _ , img = cam.read()\n",
    "    img = cv.flip(img,1)\n",
    "    key = cv.waitKey(20)\n",
    "\n",
    "    cv.imshow(\"Frame\",img)\n",
    "\n",
    "    if (key == 13):\n",
    "        cv.imwrite(\"Selfies/selfie\" + str(c) + \".jpg\",img)\n",
    "        c+=1\n",
    "\n",
    "    if (key==27):\n",
    "        cam.release()\n",
    "        cv.destroyAllWindows()\n",
    "        break"
   ]
  }
 ],
 "metadata": {
  "kernelspec": {
   "display_name": "Python 3",
   "language": "python",
   "name": "python3"
  },
  "language_info": {
   "codemirror_mode": {
    "name": "ipython",
    "version": 3
   },
   "file_extension": ".py",
   "mimetype": "text/x-python",
   "name": "python",
   "nbconvert_exporter": "python",
   "pygments_lexer": "ipython3",
   "version": "3.10.0"
  },
  "orig_nbformat": 4
 },
 "nbformat": 4,
 "nbformat_minor": 2
}
