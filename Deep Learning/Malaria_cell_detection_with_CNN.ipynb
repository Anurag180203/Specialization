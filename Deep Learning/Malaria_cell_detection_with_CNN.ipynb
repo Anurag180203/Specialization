{
  "nbformat": 4,
  "nbformat_minor": 0,
  "metadata": {
    "colab": {
      "provenance": []
    },
    "kernelspec": {
      "name": "python3",
      "display_name": "Python 3"
    },
    "language_info": {
      "name": "python"
    },
    "widgets": {
      "application/vnd.jupyter.widget-state+json": {
        "ff55b5a51d31439ba6ea965b2cffddc2": {
          "model_module": "@jupyter-widgets/controls",
          "model_name": "HBoxModel",
          "model_module_version": "1.5.0",
          "state": {
            "_dom_classes": [],
            "_model_module": "@jupyter-widgets/controls",
            "_model_module_version": "1.5.0",
            "_model_name": "HBoxModel",
            "_view_count": null,
            "_view_module": "@jupyter-widgets/controls",
            "_view_module_version": "1.5.0",
            "_view_name": "HBoxView",
            "box_style": "",
            "children": [
              "IPY_MODEL_ac318873017a4e6eac93bba4561a0010",
              "IPY_MODEL_90c41ab287134df3b1f0016c8889c1ba",
              "IPY_MODEL_dc6dd90a18f5483d99534b76996fa826"
            ],
            "layout": "IPY_MODEL_830b1d2d99404edc800fcd0cfce0c3b7"
          }
        },
        "ac318873017a4e6eac93bba4561a0010": {
          "model_module": "@jupyter-widgets/controls",
          "model_name": "HTMLModel",
          "model_module_version": "1.5.0",
          "state": {
            "_dom_classes": [],
            "_model_module": "@jupyter-widgets/controls",
            "_model_module_version": "1.5.0",
            "_model_name": "HTMLModel",
            "_view_count": null,
            "_view_module": "@jupyter-widgets/controls",
            "_view_module_version": "1.5.0",
            "_view_name": "HTMLView",
            "description": "",
            "description_tooltip": null,
            "layout": "IPY_MODEL_2a8d28088d3245c49547e7e6d29376f9",
            "placeholder": "​",
            "style": "IPY_MODEL_b98d9131fda841c1a386d23fc98a674b",
            "value": "100%"
          }
        },
        "90c41ab287134df3b1f0016c8889c1ba": {
          "model_module": "@jupyter-widgets/controls",
          "model_name": "FloatProgressModel",
          "model_module_version": "1.5.0",
          "state": {
            "_dom_classes": [],
            "_model_module": "@jupyter-widgets/controls",
            "_model_module_version": "1.5.0",
            "_model_name": "FloatProgressModel",
            "_view_count": null,
            "_view_module": "@jupyter-widgets/controls",
            "_view_module_version": "1.5.0",
            "_view_name": "ProgressView",
            "bar_style": "success",
            "description": "",
            "description_tooltip": null,
            "layout": "IPY_MODEL_2f2c874b3c50482db42b89e5a7b7e76e",
            "max": 13780,
            "min": 0,
            "orientation": "horizontal",
            "style": "IPY_MODEL_69ca7413f2804f9d8aad344f3d988c74",
            "value": 13780
          }
        },
        "dc6dd90a18f5483d99534b76996fa826": {
          "model_module": "@jupyter-widgets/controls",
          "model_name": "HTMLModel",
          "model_module_version": "1.5.0",
          "state": {
            "_dom_classes": [],
            "_model_module": "@jupyter-widgets/controls",
            "_model_module_version": "1.5.0",
            "_model_name": "HTMLModel",
            "_view_count": null,
            "_view_module": "@jupyter-widgets/controls",
            "_view_module_version": "1.5.0",
            "_view_name": "HTMLView",
            "description": "",
            "description_tooltip": null,
            "layout": "IPY_MODEL_1c1457083a1d4eb6a84cfa64ff9dbd99",
            "placeholder": "​",
            "style": "IPY_MODEL_ae12934a365d4b1c9c81a11e2306f58a",
            "value": " 13780/13780 [00:24&lt;00:00, 535.32it/s]"
          }
        },
        "830b1d2d99404edc800fcd0cfce0c3b7": {
          "model_module": "@jupyter-widgets/base",
          "model_name": "LayoutModel",
          "model_module_version": "1.2.0",
          "state": {
            "_model_module": "@jupyter-widgets/base",
            "_model_module_version": "1.2.0",
            "_model_name": "LayoutModel",
            "_view_count": null,
            "_view_module": "@jupyter-widgets/base",
            "_view_module_version": "1.2.0",
            "_view_name": "LayoutView",
            "align_content": null,
            "align_items": null,
            "align_self": null,
            "border": null,
            "bottom": null,
            "display": null,
            "flex": null,
            "flex_flow": null,
            "grid_area": null,
            "grid_auto_columns": null,
            "grid_auto_flow": null,
            "grid_auto_rows": null,
            "grid_column": null,
            "grid_gap": null,
            "grid_row": null,
            "grid_template_areas": null,
            "grid_template_columns": null,
            "grid_template_rows": null,
            "height": null,
            "justify_content": null,
            "justify_items": null,
            "left": null,
            "margin": null,
            "max_height": null,
            "max_width": null,
            "min_height": null,
            "min_width": null,
            "object_fit": null,
            "object_position": null,
            "order": null,
            "overflow": null,
            "overflow_x": null,
            "overflow_y": null,
            "padding": null,
            "right": null,
            "top": null,
            "visibility": null,
            "width": null
          }
        },
        "2a8d28088d3245c49547e7e6d29376f9": {
          "model_module": "@jupyter-widgets/base",
          "model_name": "LayoutModel",
          "model_module_version": "1.2.0",
          "state": {
            "_model_module": "@jupyter-widgets/base",
            "_model_module_version": "1.2.0",
            "_model_name": "LayoutModel",
            "_view_count": null,
            "_view_module": "@jupyter-widgets/base",
            "_view_module_version": "1.2.0",
            "_view_name": "LayoutView",
            "align_content": null,
            "align_items": null,
            "align_self": null,
            "border": null,
            "bottom": null,
            "display": null,
            "flex": null,
            "flex_flow": null,
            "grid_area": null,
            "grid_auto_columns": null,
            "grid_auto_flow": null,
            "grid_auto_rows": null,
            "grid_column": null,
            "grid_gap": null,
            "grid_row": null,
            "grid_template_areas": null,
            "grid_template_columns": null,
            "grid_template_rows": null,
            "height": null,
            "justify_content": null,
            "justify_items": null,
            "left": null,
            "margin": null,
            "max_height": null,
            "max_width": null,
            "min_height": null,
            "min_width": null,
            "object_fit": null,
            "object_position": null,
            "order": null,
            "overflow": null,
            "overflow_x": null,
            "overflow_y": null,
            "padding": null,
            "right": null,
            "top": null,
            "visibility": null,
            "width": null
          }
        },
        "b98d9131fda841c1a386d23fc98a674b": {
          "model_module": "@jupyter-widgets/controls",
          "model_name": "DescriptionStyleModel",
          "model_module_version": "1.5.0",
          "state": {
            "_model_module": "@jupyter-widgets/controls",
            "_model_module_version": "1.5.0",
            "_model_name": "DescriptionStyleModel",
            "_view_count": null,
            "_view_module": "@jupyter-widgets/base",
            "_view_module_version": "1.2.0",
            "_view_name": "StyleView",
            "description_width": ""
          }
        },
        "2f2c874b3c50482db42b89e5a7b7e76e": {
          "model_module": "@jupyter-widgets/base",
          "model_name": "LayoutModel",
          "model_module_version": "1.2.0",
          "state": {
            "_model_module": "@jupyter-widgets/base",
            "_model_module_version": "1.2.0",
            "_model_name": "LayoutModel",
            "_view_count": null,
            "_view_module": "@jupyter-widgets/base",
            "_view_module_version": "1.2.0",
            "_view_name": "LayoutView",
            "align_content": null,
            "align_items": null,
            "align_self": null,
            "border": null,
            "bottom": null,
            "display": null,
            "flex": null,
            "flex_flow": null,
            "grid_area": null,
            "grid_auto_columns": null,
            "grid_auto_flow": null,
            "grid_auto_rows": null,
            "grid_column": null,
            "grid_gap": null,
            "grid_row": null,
            "grid_template_areas": null,
            "grid_template_columns": null,
            "grid_template_rows": null,
            "height": null,
            "justify_content": null,
            "justify_items": null,
            "left": null,
            "margin": null,
            "max_height": null,
            "max_width": null,
            "min_height": null,
            "min_width": null,
            "object_fit": null,
            "object_position": null,
            "order": null,
            "overflow": null,
            "overflow_x": null,
            "overflow_y": null,
            "padding": null,
            "right": null,
            "top": null,
            "visibility": null,
            "width": null
          }
        },
        "69ca7413f2804f9d8aad344f3d988c74": {
          "model_module": "@jupyter-widgets/controls",
          "model_name": "ProgressStyleModel",
          "model_module_version": "1.5.0",
          "state": {
            "_model_module": "@jupyter-widgets/controls",
            "_model_module_version": "1.5.0",
            "_model_name": "ProgressStyleModel",
            "_view_count": null,
            "_view_module": "@jupyter-widgets/base",
            "_view_module_version": "1.2.0",
            "_view_name": "StyleView",
            "bar_color": null,
            "description_width": ""
          }
        },
        "1c1457083a1d4eb6a84cfa64ff9dbd99": {
          "model_module": "@jupyter-widgets/base",
          "model_name": "LayoutModel",
          "model_module_version": "1.2.0",
          "state": {
            "_model_module": "@jupyter-widgets/base",
            "_model_module_version": "1.2.0",
            "_model_name": "LayoutModel",
            "_view_count": null,
            "_view_module": "@jupyter-widgets/base",
            "_view_module_version": "1.2.0",
            "_view_name": "LayoutView",
            "align_content": null,
            "align_items": null,
            "align_self": null,
            "border": null,
            "bottom": null,
            "display": null,
            "flex": null,
            "flex_flow": null,
            "grid_area": null,
            "grid_auto_columns": null,
            "grid_auto_flow": null,
            "grid_auto_rows": null,
            "grid_column": null,
            "grid_gap": null,
            "grid_row": null,
            "grid_template_areas": null,
            "grid_template_columns": null,
            "grid_template_rows": null,
            "height": null,
            "justify_content": null,
            "justify_items": null,
            "left": null,
            "margin": null,
            "max_height": null,
            "max_width": null,
            "min_height": null,
            "min_width": null,
            "object_fit": null,
            "object_position": null,
            "order": null,
            "overflow": null,
            "overflow_x": null,
            "overflow_y": null,
            "padding": null,
            "right": null,
            "top": null,
            "visibility": null,
            "width": null
          }
        },
        "ae12934a365d4b1c9c81a11e2306f58a": {
          "model_module": "@jupyter-widgets/controls",
          "model_name": "DescriptionStyleModel",
          "model_module_version": "1.5.0",
          "state": {
            "_model_module": "@jupyter-widgets/controls",
            "_model_module_version": "1.5.0",
            "_model_name": "DescriptionStyleModel",
            "_view_count": null,
            "_view_module": "@jupyter-widgets/base",
            "_view_module_version": "1.2.0",
            "_view_name": "StyleView",
            "description_width": ""
          }
        },
        "bcbf89b7121d4e2e9a76c66c4d1226fb": {
          "model_module": "@jupyter-widgets/controls",
          "model_name": "HBoxModel",
          "model_module_version": "1.5.0",
          "state": {
            "_dom_classes": [],
            "_model_module": "@jupyter-widgets/controls",
            "_model_module_version": "1.5.0",
            "_model_name": "HBoxModel",
            "_view_count": null,
            "_view_module": "@jupyter-widgets/controls",
            "_view_module_version": "1.5.0",
            "_view_name": "HBoxView",
            "box_style": "",
            "children": [
              "IPY_MODEL_393d6a0676f54e1a9441a20ba466ee09",
              "IPY_MODEL_1b0a58afc3584e789cc64b200e55dfa8",
              "IPY_MODEL_075812620ad44a2f90fb03b62768413a"
            ],
            "layout": "IPY_MODEL_4642cb0f21af4595bd53cefb1eab833e"
          }
        },
        "393d6a0676f54e1a9441a20ba466ee09": {
          "model_module": "@jupyter-widgets/controls",
          "model_name": "HTMLModel",
          "model_module_version": "1.5.0",
          "state": {
            "_dom_classes": [],
            "_model_module": "@jupyter-widgets/controls",
            "_model_module_version": "1.5.0",
            "_model_name": "HTMLModel",
            "_view_count": null,
            "_view_module": "@jupyter-widgets/controls",
            "_view_module_version": "1.5.0",
            "_view_name": "HTMLView",
            "description": "",
            "description_tooltip": null,
            "layout": "IPY_MODEL_25dab10941e14082853cedf9ae352357",
            "placeholder": "​",
            "style": "IPY_MODEL_a4a0c5c4c2bb47199d6ae13ba31cfcf2",
            "value": "100%"
          }
        },
        "1b0a58afc3584e789cc64b200e55dfa8": {
          "model_module": "@jupyter-widgets/controls",
          "model_name": "FloatProgressModel",
          "model_module_version": "1.5.0",
          "state": {
            "_dom_classes": [],
            "_model_module": "@jupyter-widgets/controls",
            "_model_module_version": "1.5.0",
            "_model_name": "FloatProgressModel",
            "_view_count": null,
            "_view_module": "@jupyter-widgets/controls",
            "_view_module_version": "1.5.0",
            "_view_name": "ProgressView",
            "bar_style": "success",
            "description": "",
            "description_tooltip": null,
            "layout": "IPY_MODEL_bf99556b25d4465ab9a037a2acb31cf1",
            "max": 13780,
            "min": 0,
            "orientation": "horizontal",
            "style": "IPY_MODEL_0044c3b09f67405ab4ca97944fb0a5c7",
            "value": 13780
          }
        },
        "075812620ad44a2f90fb03b62768413a": {
          "model_module": "@jupyter-widgets/controls",
          "model_name": "HTMLModel",
          "model_module_version": "1.5.0",
          "state": {
            "_dom_classes": [],
            "_model_module": "@jupyter-widgets/controls",
            "_model_module_version": "1.5.0",
            "_model_name": "HTMLModel",
            "_view_count": null,
            "_view_module": "@jupyter-widgets/controls",
            "_view_module_version": "1.5.0",
            "_view_name": "HTMLView",
            "description": "",
            "description_tooltip": null,
            "layout": "IPY_MODEL_d0994657e8e9446b815973114043b21c",
            "placeholder": "​",
            "style": "IPY_MODEL_16e8647fac754a58bfc1bdf5220dc942",
            "value": " 13780/13780 [00:16&lt;00:00, 900.83it/s]"
          }
        },
        "4642cb0f21af4595bd53cefb1eab833e": {
          "model_module": "@jupyter-widgets/base",
          "model_name": "LayoutModel",
          "model_module_version": "1.2.0",
          "state": {
            "_model_module": "@jupyter-widgets/base",
            "_model_module_version": "1.2.0",
            "_model_name": "LayoutModel",
            "_view_count": null,
            "_view_module": "@jupyter-widgets/base",
            "_view_module_version": "1.2.0",
            "_view_name": "LayoutView",
            "align_content": null,
            "align_items": null,
            "align_self": null,
            "border": null,
            "bottom": null,
            "display": null,
            "flex": null,
            "flex_flow": null,
            "grid_area": null,
            "grid_auto_columns": null,
            "grid_auto_flow": null,
            "grid_auto_rows": null,
            "grid_column": null,
            "grid_gap": null,
            "grid_row": null,
            "grid_template_areas": null,
            "grid_template_columns": null,
            "grid_template_rows": null,
            "height": null,
            "justify_content": null,
            "justify_items": null,
            "left": null,
            "margin": null,
            "max_height": null,
            "max_width": null,
            "min_height": null,
            "min_width": null,
            "object_fit": null,
            "object_position": null,
            "order": null,
            "overflow": null,
            "overflow_x": null,
            "overflow_y": null,
            "padding": null,
            "right": null,
            "top": null,
            "visibility": null,
            "width": null
          }
        },
        "25dab10941e14082853cedf9ae352357": {
          "model_module": "@jupyter-widgets/base",
          "model_name": "LayoutModel",
          "model_module_version": "1.2.0",
          "state": {
            "_model_module": "@jupyter-widgets/base",
            "_model_module_version": "1.2.0",
            "_model_name": "LayoutModel",
            "_view_count": null,
            "_view_module": "@jupyter-widgets/base",
            "_view_module_version": "1.2.0",
            "_view_name": "LayoutView",
            "align_content": null,
            "align_items": null,
            "align_self": null,
            "border": null,
            "bottom": null,
            "display": null,
            "flex": null,
            "flex_flow": null,
            "grid_area": null,
            "grid_auto_columns": null,
            "grid_auto_flow": null,
            "grid_auto_rows": null,
            "grid_column": null,
            "grid_gap": null,
            "grid_row": null,
            "grid_template_areas": null,
            "grid_template_columns": null,
            "grid_template_rows": null,
            "height": null,
            "justify_content": null,
            "justify_items": null,
            "left": null,
            "margin": null,
            "max_height": null,
            "max_width": null,
            "min_height": null,
            "min_width": null,
            "object_fit": null,
            "object_position": null,
            "order": null,
            "overflow": null,
            "overflow_x": null,
            "overflow_y": null,
            "padding": null,
            "right": null,
            "top": null,
            "visibility": null,
            "width": null
          }
        },
        "a4a0c5c4c2bb47199d6ae13ba31cfcf2": {
          "model_module": "@jupyter-widgets/controls",
          "model_name": "DescriptionStyleModel",
          "model_module_version": "1.5.0",
          "state": {
            "_model_module": "@jupyter-widgets/controls",
            "_model_module_version": "1.5.0",
            "_model_name": "DescriptionStyleModel",
            "_view_count": null,
            "_view_module": "@jupyter-widgets/base",
            "_view_module_version": "1.2.0",
            "_view_name": "StyleView",
            "description_width": ""
          }
        },
        "bf99556b25d4465ab9a037a2acb31cf1": {
          "model_module": "@jupyter-widgets/base",
          "model_name": "LayoutModel",
          "model_module_version": "1.2.0",
          "state": {
            "_model_module": "@jupyter-widgets/base",
            "_model_module_version": "1.2.0",
            "_model_name": "LayoutModel",
            "_view_count": null,
            "_view_module": "@jupyter-widgets/base",
            "_view_module_version": "1.2.0",
            "_view_name": "LayoutView",
            "align_content": null,
            "align_items": null,
            "align_self": null,
            "border": null,
            "bottom": null,
            "display": null,
            "flex": null,
            "flex_flow": null,
            "grid_area": null,
            "grid_auto_columns": null,
            "grid_auto_flow": null,
            "grid_auto_rows": null,
            "grid_column": null,
            "grid_gap": null,
            "grid_row": null,
            "grid_template_areas": null,
            "grid_template_columns": null,
            "grid_template_rows": null,
            "height": null,
            "justify_content": null,
            "justify_items": null,
            "left": null,
            "margin": null,
            "max_height": null,
            "max_width": null,
            "min_height": null,
            "min_width": null,
            "object_fit": null,
            "object_position": null,
            "order": null,
            "overflow": null,
            "overflow_x": null,
            "overflow_y": null,
            "padding": null,
            "right": null,
            "top": null,
            "visibility": null,
            "width": null
          }
        },
        "0044c3b09f67405ab4ca97944fb0a5c7": {
          "model_module": "@jupyter-widgets/controls",
          "model_name": "ProgressStyleModel",
          "model_module_version": "1.5.0",
          "state": {
            "_model_module": "@jupyter-widgets/controls",
            "_model_module_version": "1.5.0",
            "_model_name": "ProgressStyleModel",
            "_view_count": null,
            "_view_module": "@jupyter-widgets/base",
            "_view_module_version": "1.2.0",
            "_view_name": "StyleView",
            "bar_color": null,
            "description_width": ""
          }
        },
        "d0994657e8e9446b815973114043b21c": {
          "model_module": "@jupyter-widgets/base",
          "model_name": "LayoutModel",
          "model_module_version": "1.2.0",
          "state": {
            "_model_module": "@jupyter-widgets/base",
            "_model_module_version": "1.2.0",
            "_model_name": "LayoutModel",
            "_view_count": null,
            "_view_module": "@jupyter-widgets/base",
            "_view_module_version": "1.2.0",
            "_view_name": "LayoutView",
            "align_content": null,
            "align_items": null,
            "align_self": null,
            "border": null,
            "bottom": null,
            "display": null,
            "flex": null,
            "flex_flow": null,
            "grid_area": null,
            "grid_auto_columns": null,
            "grid_auto_flow": null,
            "grid_auto_rows": null,
            "grid_column": null,
            "grid_gap": null,
            "grid_row": null,
            "grid_template_areas": null,
            "grid_template_columns": null,
            "grid_template_rows": null,
            "height": null,
            "justify_content": null,
            "justify_items": null,
            "left": null,
            "margin": null,
            "max_height": null,
            "max_width": null,
            "min_height": null,
            "min_width": null,
            "object_fit": null,
            "object_position": null,
            "order": null,
            "overflow": null,
            "overflow_x": null,
            "overflow_y": null,
            "padding": null,
            "right": null,
            "top": null,
            "visibility": null,
            "width": null
          }
        },
        "16e8647fac754a58bfc1bdf5220dc942": {
          "model_module": "@jupyter-widgets/controls",
          "model_name": "DescriptionStyleModel",
          "model_module_version": "1.5.0",
          "state": {
            "_model_module": "@jupyter-widgets/controls",
            "_model_module_version": "1.5.0",
            "_model_name": "DescriptionStyleModel",
            "_view_count": null,
            "_view_module": "@jupyter-widgets/base",
            "_view_module_version": "1.2.0",
            "_view_name": "StyleView",
            "description_width": ""
          }
        }
      }
    }
  },
  "cells": [
    {
      "cell_type": "markdown",
      "source": [
        "# **Importing Libraries**"
      ],
      "metadata": {
        "id": "Yt3EUgbQ5lYf"
      }
    },
    {
      "cell_type": "code",
      "source": [
        "import numpy as np\n",
        "import pandas as pd\n",
        "import matplotlib.pyplot as plt\n",
        "\n",
        "import os\n",
        "import cv2\n",
        "\n",
        "from PIL import Image\n",
        "\n",
        "from tensorflow import keras\n",
        "import tensorflow.keras.layers as k\n",
        "\n",
        "from tqdm.notebook import tqdm"
      ],
      "metadata": {
        "id": "1RLoJiXH5Y8q"
      },
      "execution_count": 54,
      "outputs": []
    },
    {
      "cell_type": "markdown",
      "source": [
        "# **Data**"
      ],
      "metadata": {
        "id": "XbyIgJw35_7N"
      }
    },
    {
      "cell_type": "code",
      "source": [
        "from keras.preprocessing.image import ImageDataGenerator\n",
        "from keras.utils import load_img"
      ],
      "metadata": {
        "id": "qpZotvEn6Chd"
      },
      "execution_count": 55,
      "outputs": []
    },
    {
      "cell_type": "code",
      "source": [
        "load_img('/content/MalarialCellImageData/cell_images/Parasitized/C100P61ThinF_IMG_20150918_144104_cell_162.png')"
      ],
      "metadata": {
        "colab": {
          "base_uri": "https://localhost:8080/",
          "height": 165
        },
        "id": "Bdx6HonG6Tps",
        "outputId": "b9dca0c5-1d8c-4011-8865-e831150d0652"
      },
      "execution_count": 56,
      "outputs": [
        {
          "output_type": "execute_result",
          "data": {
            "text/plain": [
              "<PIL.PngImagePlugin.PngImageFile image mode=RGB size=142x148>"
            ],
            "image/png": "[encoded data removed]"
          },
          "metadata": {},
          "execution_count": 56
        }
      ]
    },
    {
      "cell_type": "code",
      "source": [
        "#changing the size of the image so that model trains on less features\n",
        "load_img('/content/MalarialCellImageData/cell_images/Parasitized/C100P61ThinF_IMG_20150918_144104_cell_162.png',target_size = (64,64))"
      ],
      "metadata": {
        "colab": {
          "base_uri": "https://localhost:8080/",
          "height": 81
        },
        "id": "8DEP9Jrw7VJn",
        "outputId": "91418b94-9d7e-493f-f597-95201b4c6374"
      },
      "execution_count": 57,
      "outputs": [
        {
          "output_type": "execute_result",
          "data": {
            "text/plain": [
              "<PIL.Image.Image image mode=RGB size=64x64>"
            ],
            "image/png": "[encoded data removed]"
          },
          "metadata": {},
          "execution_count": 57
        }
      ]
    },
    {
      "cell_type": "code",
      "source": [
        "load_img('/content/MalarialCellImageData/cell_images/Uninfected/C100P61ThinF_IMG_20150918_144104_cell_34.png',\n",
        "        target_size = (64,64))"
      ],
      "metadata": {
        "colab": {
          "base_uri": "https://localhost:8080/",
          "height": 81
        },
        "id": "6eVnweZY7q6F",
        "outputId": "0266c615-f94a-4364-8170-69c6cc727857"
      },
      "execution_count": 58,
      "outputs": [
        {
          "output_type": "execute_result",
          "data": {
            "text/plain": [
              "<PIL.Image.Image image mode=RGB size=64x64>"
            ],
            "image/png": "[encoded data removed]"
          },
          "metadata": {},
          "execution_count": 58
        }
      ]
    },
    {
      "cell_type": "code",
      "source": [
        "os.environ['KERAS_BACKEND'] = 'tensorflow'\n",
        "np.random.seed(312)"
      ],
      "metadata": {
        "id": "M7TeElrk7091"
      },
      "execution_count": 59,
      "outputs": []
    },
    {
      "cell_type": "code",
      "source": [
        "image_dir = '/content/MalarialCellImageData/malarial_cell_image_data/cell_images/cell_images/'\n",
        "size = 64\n",
        "dataset = []\n",
        "label = []"
      ],
      "metadata": {
        "id": "iadSGmJQ7-w7"
      },
      "execution_count": 60,
      "outputs": []
    },
    {
      "cell_type": "code",
      "source": [
        "parasitized_img = os.listdir(image_dir+'Parasitized/')\n",
        "for i,img_name in enumerate(tqdm(parasitized_img)):\n",
        "  if (img_name.split('.')[1] == 'png'):\n",
        "    image = cv2.imread(image_dir+'Parasitized/'+img_name)\n",
        "    image = Image.fromarray(image, 'RGB')\n",
        "    image = image.resize((size,size))\n",
        "    dataset.append(np.array(image))\n",
        "    label.append(0)"
      ],
      "metadata": {
        "colab": {
          "base_uri": "https://localhost:8080/",
          "height": 49,
          "referenced_widgets": [
            "ff55b5a51d31439ba6ea965b2cffddc2",
            "ac318873017a4e6eac93bba4561a0010",
            "90c41ab287134df3b1f0016c8889c1ba",
            "dc6dd90a18f5483d99534b76996fa826",
            "830b1d2d99404edc800fcd0cfce0c3b7",
            "2a8d28088d3245c49547e7e6d29376f9",
            "b98d9131fda841c1a386d23fc98a674b",
            "2f2c874b3c50482db42b89e5a7b7e76e",
            "69ca7413f2804f9d8aad344f3d988c74",
            "1c1457083a1d4eb6a84cfa64ff9dbd99",
            "ae12934a365d4b1c9c81a11e2306f58a"
          ]
        },
        "id": "r2953sk38M6N",
        "outputId": "063e2424-7238-4c44-9f17-09d301a51bad"
      },
      "execution_count": 61,
      "outputs": [
        {
          "output_type": "display_data",
          "data": {
            "text/plain": [
              "  0%|          | 0/13780 [00:00<?, ?it/s]"
            ],
            "application/vnd.jupyter.widget-view+json": {
              "version_major": 2,
              "version_minor": 0,
              "model_id": "ff55b5a51d31439ba6ea965b2cffddc2"
            }
          },
          "metadata": {}
        }
      ]
    },
    {
      "cell_type": "code",
      "source": [
        "uninfected_img = os.listdir(image_dir+'Uninfected/')\n",
        "for i,img_name in enumerate(tqdm(uninfected_img)):\n",
        "  if (img_name.split('.')[1] == 'png'):\n",
        "    image = cv2.imread(image_dir+'Uninfected/'+img_name)\n",
        "    image = Image.fromarray(image, 'RGB')\n",
        "    image = image.resize((size,size))\n",
        "    dataset.append(np.array(image))\n",
        "    label.append(1)"
      ],
      "metadata": {
        "colab": {
          "base_uri": "https://localhost:8080/",
          "height": 49,
          "referenced_widgets": [
            "bcbf89b7121d4e2e9a76c66c4d1226fb",
            "393d6a0676f54e1a9441a20ba466ee09",
            "1b0a58afc3584e789cc64b200e55dfa8",
            "075812620ad44a2f90fb03b62768413a",
            "4642cb0f21af4595bd53cefb1eab833e",
            "25dab10941e14082853cedf9ae352357",
            "a4a0c5c4c2bb47199d6ae13ba31cfcf2",
            "bf99556b25d4465ab9a037a2acb31cf1",
            "0044c3b09f67405ab4ca97944fb0a5c7",
            "d0994657e8e9446b815973114043b21c",
            "16e8647fac754a58bfc1bdf5220dc942"
          ]
        },
        "id": "0-HD8JZG9iJ9",
        "outputId": "9d5f836f-cbaf-4778-cf13-44fa83caa50b"
      },
      "execution_count": 62,
      "outputs": [
        {
          "output_type": "display_data",
          "data": {
            "text/plain": [
              "  0%|          | 0/13780 [00:00<?, ?it/s]"
            ],
            "application/vnd.jupyter.widget-view+json": {
              "version_major": 2,
              "version_minor": 0,
              "model_id": "bcbf89b7121d4e2e9a76c66c4d1226fb"
            }
          },
          "metadata": {}
        }
      ]
    },
    {
      "cell_type": "code",
      "source": [
        "print(len(parasitized_img),len(uninfected_img))"
      ],
      "metadata": {
        "colab": {
          "base_uri": "https://localhost:8080/"
        },
        "id": "oSdAa-qn93CF",
        "outputId": "4e436719-e6d5-4c7b-f2ac-9bae64795d3a"
      },
      "execution_count": 63,
      "outputs": [
        {
          "output_type": "stream",
          "name": "stdout",
          "text": [
            "13780 13780\n"
          ]
        }
      ]
    },
    {
      "cell_type": "code",
      "source": [
        "from sklearn.model_selection import train_test_split\n",
        "from keras.utils import to_categorical\n",
        "\n",
        "xtrain,xtest,ytrain,ytest = train_test_split(dataset,to_categorical(np.array(label)), test_size = 0.2, random_state = 0)"
      ],
      "metadata": {
        "id": "AoKNSJ7a_ZHe"
      },
      "execution_count": 64,
      "outputs": []
    },
    {
      "cell_type": "markdown",
      "source": [
        "# **CNN MODEL Architecture**"
      ],
      "metadata": {
        "id": "pno2XLUVAn0G"
      }
    },
    {
      "cell_type": "code",
      "source": [
        "INPUT_SHAPE = (size,size,3)\n",
        "inp = k.Input(shape = INPUT_SHAPE)\n",
        "\n",
        "conv1 = k.Conv2D(32, kernel_size = (3,3), activation = \"relu\", padding = \"same\")(inp)\n",
        "pool1 = k.MaxPool2D(pool_size = (2,2))(conv1)\n",
        "norm1 = k.BatchNormalization(axis = -1)(pool1)\n",
        "drop1 = k.Dropout(rate = 0.2)(norm1)\n",
        "\n",
        "conv2 = k.Conv2D(32, kernel_size = (3,3), activation = \"relu\", padding = \"same\")(drop1)\n",
        "pool2 = k.MaxPool2D(pool_size = (2,2))(conv2)\n",
        "norm2 = k.BatchNormalization(axis = -1)(pool2)\n",
        "drop2 = k.Dropout(rate = 0.2)(norm2)\n",
        "\n",
        "flat = k.Flatten()(drop2)\n",
        "\n",
        "hidden1 = k.Dense(512, activation = 'relu')(flat)\n",
        "norm3 = k.BatchNormalization(axis = -1)(hidden1)\n",
        "drop3 = k.Dropout(rate = 0.2)(norm3)\n",
        "\n",
        "hidden2 = k.Dense(256, activation = 'relu')(drop3)\n",
        "norm4 = k.BatchNormalization(axis = -1)(hidden2)\n",
        "drop4 = k.Dropout(rate = 0.2)(norm4)\n",
        "\n",
        "out = k.Dense(2, activation = 'sigmoid')(drop4)"
      ],
      "metadata": {
        "id": "zX_JlaarAhdF"
      },
      "execution_count": 65,
      "outputs": []
    },
    {
      "cell_type": "code",
      "source": [
        "from keras.utils.sidecar_evaluator import optimizer\n",
        "\n",
        "model = keras.Model(inputs = inp, outputs = out)\n",
        "model.compile(optimizer = 'adam', loss='categorical_crossentropy', metrics = ['accuracy'])\n",
        "\n",
        "print(model.summary())"
      ],
      "metadata": {
        "colab": {
          "base_uri": "https://localhost:8080/"
        },
        "id": "QjRTAxMgC-02",
        "outputId": "ac335798-89d1-4e26-ff4d-486062d48bfe"
      },
      "execution_count": 69,
      "outputs": [
        {
          "output_type": "stream",
          "name": "stdout",
          "text": [
            "Model: \"model_1\"\n",
            "_________________________________________________________________\n",
            " Layer (type)                Output Shape              Param #   \n",
            "=================================================================\n",
            " input_1 (InputLayer)        [(None, 64, 64, 3)]       0         \n",
            "                                                                 \n",
            " conv2d (Conv2D)             (None, 64, 64, 32)        896       \n",
            "                                                                 \n",
            " max_pooling2d (MaxPooling2D  (None, 32, 32, 32)       0         \n",
            " )                                                               \n",
            "                                                                 \n",
            " batch_normalization (BatchN  (None, 32, 32, 32)       128       \n",
            " ormalization)                                                   \n",
            "                                                                 \n",
            " dropout (Dropout)           (None, 32, 32, 32)        0         \n",
            "                                                                 \n",
            " conv2d_1 (Conv2D)           (None, 32, 32, 32)        9248      \n",
            "                                                                 \n",
            " max_pooling2d_1 (MaxPooling  (None, 16, 16, 32)       0         \n",
            " 2D)                                                             \n",
            "                                                                 \n",
            " batch_normalization_1 (Batc  (None, 16, 16, 32)       128       \n",
            " hNormalization)                                                 \n",
            "                                                                 \n",
            " dropout_1 (Dropout)         (None, 16, 16, 32)        0         \n",
            "                                                                 \n",
            " flatten (Flatten)           (None, 8192)              0         \n",
            "                                                                 \n",
            " dense (Dense)               (None, 512)               4194816   \n",
            "                                                                 \n",
            " batch_normalization_2 (Batc  (None, 512)              2048      \n",
            " hNormalization)                                                 \n",
            "                                                                 \n",
            " dropout_2 (Dropout)         (None, 512)               0         \n",
            "                                                                 \n",
            " dense_1 (Dense)             (None, 256)               131328    \n",
            "                                                                 \n",
            " batch_normalization_3 (Batc  (None, 256)              1024      \n",
            " hNormalization)                                                 \n",
            "                                                                 \n",
            " dropout_3 (Dropout)         (None, 256)               0         \n",
            "                                                                 \n",
            " dense_2 (Dense)             (None, 2)                 514       \n",
            "                                                                 \n",
            "=================================================================\n",
            "Total params: 4,340,130\n",
            "Trainable params: 4,338,466\n",
            "Non-trainable params: 1,664\n",
            "_________________________________________________________________\n",
            "None\n"
          ]
        }
      ]
    },
    {
      "cell_type": "code",
      "source": [
        "history = model.fit(np.array(xtrain), ytrain, batch_size=64, verbose=1, epochs = 5, validation_split=0.1, shuffle = False)"
      ],
      "metadata": {
        "colab": {
          "base_uri": "https://localhost:8080/"
        },
        "id": "HQknMRIUEDnt",
        "outputId": "b4fcf920-2de6-4cac-fcc2-6c5d0ee973ca"
      },
      "execution_count": 70,
      "outputs": [
        {
          "output_type": "stream",
          "name": "stdout",
          "text": [
            "Epoch 1/5\n",
            "311/311 [==============================] - 168s 530ms/step - loss: 0.5549 - accuracy: 0.7494 - val_loss: 0.8476 - val_accuracy: 0.8245\n",
            "Epoch 2/5\n",
            "311/311 [==============================] - 154s 496ms/step - loss: 0.2342 - accuracy: 0.9112 - val_loss: 0.3253 - val_accuracy: 0.8857\n",
            "Epoch 3/5\n",
            "311/311 [==============================] - 155s 497ms/step - loss: 0.1878 - accuracy: 0.9304 - val_loss: 0.3054 - val_accuracy: 0.9070\n",
            "Epoch 4/5\n",
            "311/311 [==============================] - 154s 496ms/step - loss: 0.1584 - accuracy: 0.9427 - val_loss: 0.2358 - val_accuracy: 0.9057\n",
            "Epoch 5/5\n",
            "311/311 [==============================] - 151s 486ms/step - loss: 0.1380 - accuracy: 0.9499 - val_loss: 0.5065 - val_accuracy: 0.7628\n"
          ]
        }
      ]
    },
    {
      "cell_type": "code",
      "source": [
        "print(\"Test accuracy: {:.2f}%\".format(model.evaluate(np.array(xtest),np.array(ytest))[1]*100))\n",
        "# to improve accuracy more epochs/iterations required"
      ],
      "metadata": {
        "colab": {
          "base_uri": "https://localhost:8080/"
        },
        "id": "uCD20duVF6T9",
        "outputId": "87dc6efd-2b48-4c31-b1ae-b4bc0f58ada3"
      },
      "execution_count": 71,
      "outputs": [
        {
          "output_type": "stream",
          "name": "stdout",
          "text": [
            "173/173 [==============================] - 10s 60ms/step - loss: 0.4835 - accuracy: 0.7643\n",
            "Test accuracy: 76.43%\n"
          ]
        }
      ]
    },
    {
      "cell_type": "code",
      "source": [
        "f,(ax1,ax2) = plt.subplots(1,2,figsize = (12,4))\n",
        "t = f.suptitle('CNN Performance',fontsize=12)\n",
        "f.subplots_adjust(top = 0.85, wspace=0.3)\n",
        "\n",
        "max_epoch = len(history.history['accuracy'])+1\n",
        "epoch_list = list(range(1,max_epoch))\n",
        "ax1.plot(epoch_list,history.history['accuracy'],label = 'Train Accuracy')\n",
        "ax1.plot(epoch_list,history.history['val_accuracy'],label = 'Validation Accuracy')\n",
        "ax1.set_xticks(np.arange(1,max_epoch,5))\n",
        "ax1.set_ylabel('Accuracy Value')\n",
        "ax1.set_xlabel('Epoch')\n",
        "ax1.set_title('Accuracy')\n",
        "l1 = ax1.legend(loc = \"best\")\n",
        "\n",
        "ax2.plot(epoch_list,history.history['loss'],label = 'Train Loss')\n",
        "ax2.plot(epoch_list,history.history['val_loss'],label = 'Validation Loss')\n",
        "ax2.set_xticks(np.arange(1,max_epoch,5))\n",
        "ax2.set_ylabel('Loss Value')\n",
        "ax2.set_xlabel('Epoch')\n",
        "ax2.set_title('Loss')\n",
        "l2 = ax2.legend(loc = \"best\")"
      ],
      "metadata": {
        "colab": {
          "base_uri": "https://localhost:8080/",
          "height": 278
        },
        "id": "5wWhO_KtGQBG",
        "outputId": "7047361c-a9be-49bb-8fb7-879070ec40c7"
      },
      "execution_count": 73,
      "outputs": [
        {
          "output_type": "display_data",
          "data": {
            "text/plain": [
              "<Figure size 1200x400 with 2 Axes>"
            ],
            "image/png": "[encoded data removed]"
          },
          "metadata": {}
        }
      ]
    }
  ]
}