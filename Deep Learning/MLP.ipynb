{
  "nbformat": 4,
  "nbformat_minor": 0,
  "metadata": {
    "colab": {
      "provenance": []
    },
    "kernelspec": {
      "name": "python3",
      "display_name": "Python 3"
    },
    "language_info": {
      "name": "python"
    }
  },
  "cells": [
    {
      "cell_type": "code",
      "source": [
        "import numpy as np"
      ],
      "metadata": {
        "id": "moLPH-PIWDf2"
      },
      "execution_count": null,
      "outputs": []
    },
    {
      "cell_type": "code",
      "execution_count": null,
      "metadata": {
        "id": "-jTVDffEVcZj"
      },
      "outputs": [],
      "source": [
        "input_size = 3\n",
        "layers = [3,2]\n",
        "output_size = 2"
      ]
    },
    {
      "cell_type": "code",
      "source": [
        "class Neural_Network:\n",
        "  def __init__(self,input_size,layers,output_size):\n",
        "    np.random.seed(0)\n",
        "    model = {}\n",
        "    model['w1'] = np.random.randn(input_size,layers[0])\n",
        "    model['b1'] = np.zeros(1,layers[0])\n",
        "\n",
        "    model['w2'] = np.random.randn(layers[0],layers[1])\n",
        "    model['b2'] = np.zeros(1,layers[1])\n",
        "\n",
        "    model['w3'] = np.random.randn(layers[1],output_size)\n",
        "    model['b3'] = np.zeros(1,output_size)\n",
        "\n",
        "    self.model = model\n"
      ],
      "metadata": {
        "id": "IrLZNshmWGY_"
      },
      "execution_count": null,
      "outputs": []
    }
  ]
}