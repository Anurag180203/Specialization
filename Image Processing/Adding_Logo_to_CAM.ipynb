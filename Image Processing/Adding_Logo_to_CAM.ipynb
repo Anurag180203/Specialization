{
 "cells": [
  {
   "cell_type": "code",
   "execution_count": 1,
   "metadata": {},
   "outputs": [],
   "source": [
    "import numpy as np\n",
    "import matplotlib.pyplot as plt\n",
    "import cv2 as cv"
   ]
  },
  {
   "cell_type": "code",
   "execution_count": 2,
   "metadata": {},
   "outputs": [],
   "source": [
    "cam = cv.VideoCapture(0)\n",
    "\n",
    "while True:\n",
    "    ret, frame = cam.read()\n",
    "    frame = cv.flip(frame, 1)\n",
    "\n",
    "    cv.imshow(\"Frame\",frame)\n",
    "\n",
    "    key = cv.waitKey(10)\n",
    "\n",
    "    if key == 27:\n",
    "        cam.release()\n",
    "        cv.destroyAllWindows()\n",
    "        break"
   ]
  },
  {
   "cell_type": "code",
   "execution_count": 4,
   "metadata": {},
   "outputs": [
    {
     "name": "stdout",
     "output_type": "stream",
     "text": [
      "(200, 200, 3) (480, 640, 3)\n"
     ]
    }
   ],
   "source": [
    "logo = cv.imread(\"logo.png\")\n",
    "print(logo.shape, frame.shape)"
   ]
  },
  {
   "cell_type": "markdown",
   "metadata": {},
   "source": [
    "hardcoding positional values"
   ]
  },
  {
   "cell_type": "code",
   "execution_count": 5,
   "metadata": {},
   "outputs": [],
   "source": [
    "logo = cv.resize(logo, (50,50))\n",
    "cam = cv.VideoCapture(0)\n",
    "\n",
    "while True:\n",
    "    ret, frame = cam.read()\n",
    "    frame = cv.flip(frame, 1)\n",
    "\n",
    "    # for i in range(50):\n",
    "    #     for j in range(50):\n",
    "    #         print(logo[i,j])\n",
    "    #         if logo[i,j,1] >= 130 and logo[i,j,1]<=150:\n",
    "    #             frame[i,j+590] = logo[i,j]\n",
    "    frame[:50, 590:640] = logo\n",
    "\n",
    "    cv.imshow(\"Frame\",frame)\n",
    "\n",
    "    key = cv.waitKey(10)\n",
    "\n",
    "    if key == 27:\n",
    "        cam.release()\n",
    "        cv.destroyAllWindows()\n",
    "        break"
   ]
  },
  {
   "cell_type": "code",
   "execution_count": 6,
   "metadata": {},
   "outputs": [
    {
     "name": "stdout",
     "output_type": "stream",
     "text": [
      "7.8125 10.416666666666668\n"
     ]
    }
   ],
   "source": [
    "print(50/640*100, 50/480*100)"
   ]
  },
  {
   "cell_type": "markdown",
   "metadata": {},
   "source": [
    "top-right"
   ]
  },
  {
   "cell_type": "code",
   "execution_count": 7,
   "metadata": {},
   "outputs": [],
   "source": [
    "logo = cv.imread(\"logo.png\")\n",
    "cam = cv.VideoCapture(0)\n",
    "\n",
    "while True:\n",
    "    ret, frame = cam.read()\n",
    "    frame = cv.flip(frame, 1)\n",
    "\n",
    "    ht = frame.shape[0]\n",
    "    wd = frame.shape[1]\n",
    "    margin_top = int(ht/100) # 1% margin\n",
    "    # logo_ht = int(ht/100*8) # 8% of height\n",
    "    margin_left = int(wd/100*89.5) # 89.5% of width\n",
    "    logo_wd = int(wd/100*10.5) # 10% of width # can be used but it will change the aspect ratio of logo \n",
    "\n",
    "    logo = cv.resize(logo, (logo_wd, logo_wd))\n",
    "    \n",
    "    frame[margin_top:logo_wd+margin_top, margin_left:logo_wd + margin_left] = logo\n",
    "\n",
    "    cv.imshow(\"Frame\",frame)\n",
    "\n",
    "    key = cv.waitKey(10)\n",
    "\n",
    "    if key == 27:\n",
    "        cam.release()\n",
    "        cv.destroyAllWindows()\n",
    "        break"
   ]
  },
  {
   "cell_type": "markdown",
   "metadata": {},
   "source": [
    "top-left"
   ]
  },
  {
   "cell_type": "code",
   "execution_count": 8,
   "metadata": {},
   "outputs": [],
   "source": [
    "logo = cv.imread(\"logo.png\")\n",
    "cam = cv.VideoCapture(0)\n",
    "\n",
    "while True:\n",
    "    ret, frame = cam.read()\n",
    "    frame = cv.flip(frame, 1)\n",
    "\n",
    "    ht = frame.shape[0]\n",
    "    wd = frame.shape[1]\n",
    "    margin_top = int(ht/100)\n",
    "    margin_left = int(wd/100*.5)\n",
    "    logo_wd = int(wd/100*10.5)\n",
    "\n",
    "    logo = cv.resize(logo, (logo_wd, logo_wd))\n",
    "    \n",
    "    frame[margin_top:logo_wd+margin_top, margin_left:logo_wd + margin_left] = logo\n",
    "\n",
    "    cv.imshow(\"Frame\",frame)\n",
    "\n",
    "    key = cv.waitKey(10)\n",
    "\n",
    "    if key == 27:\n",
    "        cam.release()\n",
    "        cv.destroyAllWindows()\n",
    "        break"
   ]
  },
  {
   "cell_type": "markdown",
   "metadata": {},
   "source": [
    "bottom left"
   ]
  },
  {
   "cell_type": "code",
   "execution_count": 9,
   "metadata": {},
   "outputs": [],
   "source": [
    "logo = cv.imread(\"logo.png\")\n",
    "cam = cv.VideoCapture(0)\n",
    "\n",
    "while True:\n",
    "    ret, frame = cam.read()\n",
    "    frame = cv.flip(frame, 1)\n",
    "\n",
    "    ht = frame.shape[0]\n",
    "    wd = frame.shape[1]\n",
    "    margin_top = int(ht/100*85)\n",
    "    margin_left = int(wd/100*.5)\n",
    "    logo_wd = int(wd/100*10.5)\n",
    "\n",
    "    logo = cv.resize(logo, (logo_wd, logo_wd))\n",
    "    \n",
    "    frame[margin_top:logo_wd+margin_top, margin_left:logo_wd + margin_left] = logo\n",
    "\n",
    "    cv.imshow(\"Frame\",frame)\n",
    "\n",
    "    key = cv.waitKey(10)\n",
    "\n",
    "    if key == 27:\n",
    "        cam.release()\n",
    "        cv.destroyAllWindows()\n",
    "        break"
   ]
  },
  {
   "cell_type": "markdown",
   "metadata": {},
   "source": [
    "bottom right"
   ]
  },
  {
   "cell_type": "code",
   "execution_count": 10,
   "metadata": {},
   "outputs": [],
   "source": [
    "logo = cv.imread(\"logo.png\")\n",
    "cam = cv.VideoCapture(0)\n",
    "\n",
    "while True:\n",
    "    ret, frame = cam.read()\n",
    "    frame = cv.flip(frame, 1)\n",
    "\n",
    "    ht = frame.shape[0]\n",
    "    wd = frame.shape[1]\n",
    "    margin_top = int(ht/100*85)\n",
    "    margin_left = int(wd/100*89.5)\n",
    "    logo_wd = int(wd/100*10.5)\n",
    "\n",
    "    logo = cv.resize(logo, (logo_wd, logo_wd))\n",
    "    \n",
    "    frame[margin_top:logo_wd+margin_top, margin_left:logo_wd + margin_left] = logo\n",
    "\n",
    "    cv.imshow(\"Frame\",frame)\n",
    "\n",
    "    key = cv.waitKey(10)\n",
    "\n",
    "    if key == 27:\n",
    "        cam.release()\n",
    "        cv.destroyAllWindows()\n",
    "        break"
   ]
  },
  {
   "cell_type": "markdown",
   "metadata": {},
   "source": [
    "all directions"
   ]
  },
  {
   "cell_type": "code",
   "execution_count": 11,
   "metadata": {},
   "outputs": [],
   "source": [
    "logo = cv.imread(\"logo.png\")\n",
    "cam = cv.VideoCapture(0)\n",
    "\n",
    "while True:\n",
    "    ret, frame = cam.read()\n",
    "    frame = cv.flip(frame, 1)\n",
    "\n",
    "    # bottom right\n",
    "    ht = frame.shape[0]\n",
    "    wd = frame.shape[1]\n",
    "    margin_top = int(ht/100*85)\n",
    "    margin_left = int(wd/100*89.5)\n",
    "    logo_wd = int(wd/100*10.5)\n",
    "    logo = cv.resize(logo, (logo_wd, logo_wd))\n",
    "    frame[margin_top:logo_wd+margin_top, margin_left:logo_wd + margin_left] = logo\n",
    "\n",
    "    # bottom left\n",
    "    margin_top = int(ht/100*85)\n",
    "    margin_left = int(wd/100*.5)\n",
    "    logo_wd = int(wd/100*10.5)\n",
    "    frame[margin_top:logo_wd+margin_top, margin_left:logo_wd + margin_left] = logo\n",
    "\n",
    "\n",
    "    # top left\n",
    "    margin_top = int(ht/100)\n",
    "    margin_left = int(wd/100*.5)\n",
    "    logo_wd = int(wd/100*10.5)\n",
    "    frame[margin_top:logo_wd+margin_top, margin_left:logo_wd + margin_left] = logo\n",
    "\n",
    "\n",
    "    # top right\n",
    "    margin_top = int(ht/100)\n",
    "    margin_left = int(wd/100*89.5)\n",
    "    logo_wd = int(wd/100*10.5)\n",
    "    frame[margin_top:logo_wd+margin_top, margin_left:logo_wd + margin_left] = logo\n",
    "\n",
    "    cv.imshow(\"Frame\",frame)\n",
    "\n",
    "    key = cv.waitKey(10)\n",
    "\n",
    "    if key == 27:\n",
    "        cam.release()\n",
    "        cv.destroyAllWindows()\n",
    "        break"
   ]
  },
  {
   "cell_type": "markdown",
   "metadata": {},
   "source": [
    "dynamic fit of logo"
   ]
  },
  {
   "cell_type": "code",
   "execution_count": 9,
   "metadata": {},
   "outputs": [],
   "source": [
    "logo = cv.imread(\"logo.png\")\n",
    "cam = cv.VideoCapture(0)\n",
    "\n",
    "r=640\n",
    "\n",
    "while True:\n",
    "    ret, frame = cam.read()\n",
    "    frame = cv.flip(frame, 1)\n",
    "    frame = frame[:,:r]\n",
    "\n",
    "    ht = frame.shape[0]\n",
    "    wd = frame.shape[1]\n",
    "    margin_top = int(ht/100) \n",
    "    margin_left = int(wd/100*89.5)\n",
    "    logo_wd = int(wd/100*10.5) \n",
    "    logo_ht = int(ht/100*8)\n",
    "\n",
    "    side = min(logo_ht, logo_wd)\n",
    "    logo = cv.resize(logo, (side, side))\n",
    "    \n",
    "    frame[margin_top:side+margin_top, margin_left:side + margin_left] = logo\n",
    "\n",
    "    cv.imshow(\"Frame\",frame)\n",
    "\n",
    "    if cv.waitKey(10) == 115: # s \n",
    "        r-=10\n",
    "    elif cv.waitKey(10) == 119: # w\n",
    "        r+=10\n",
    "    elif cv.waitKey(10) == 27:\n",
    "        cam.release()\n",
    "        cv.destroyAllWindows()\n",
    "        break"
   ]
  },
  {
   "cell_type": "markdown",
   "metadata": {},
   "source": [
    "Final fit of logo"
   ]
  },
  {
   "cell_type": "code",
   "execution_count": 13,
   "metadata": {},
   "outputs": [],
   "source": [
    "logo = cv.imread(\"logo.png\")\n",
    "cam = cv.VideoCapture(0)\n",
    "\n",
    "scaling_factor = 1.0\n",
    "\n",
    "while True:\n",
    "    ret, frame = cam.read()\n",
    "    frame = cv.flip(frame, 1)\n",
    "\n",
    "    frame = cv.resize(frame, (int(frame.shape[1]*scaling_factor), int(frame.shape[0]*scaling_factor)))\n",
    "    ht = frame.shape[0]\n",
    "    wd = frame.shape[1]\n",
    "\n",
    "    margin_top = int(ht/100) \n",
    "    margin_left = int((wd/100)*89.5)\n",
    "    logo_wd = int((wd/100)*10.5) \n",
    "    logo_ht = int((ht/100)*8)\n",
    "\n",
    "    side = min(logo_wd, logo_ht)\n",
    "    logo = cv.resize(logo, (side, side))\n",
    "    \n",
    "    frame[margin_top:side+margin_top, margin_left:side + margin_left] = logo\n",
    "\n",
    "    cv.imshow(\"Frame\",frame)\n",
    "\n",
    "    if cv.waitKey(10) == 115: # s \n",
    "        scaling_factor-=0.1\n",
    "    elif cv.waitKey(10) == 119: # w\n",
    "        scaling_factor+=0.1\n",
    "    elif cv.waitKey(10) == 27:\n",
    "        cam.release()\n",
    "        cv.destroyAllWindows()\n",
    "        break"
   ]
  },
  {
   "cell_type": "code",
   "execution_count": 15,
   "metadata": {},
   "outputs": [],
   "source": [
    "logo = cv.imread(\"logo.png\")\n",
    "cam = cv.VideoCapture(0)\n",
    "\n",
    "scaling_factor = 1.0\n",
    "\n",
    "while True:\n",
    "    ret, frame = cam.read()\n",
    "    frame = cv.flip(frame, 1)\n",
    "\n",
    "    frame = cv.resize(frame, (int(frame.shape[1]*scaling_factor), int(frame.shape[0]*scaling_factor)))\n",
    "    ht = frame.shape[0]\n",
    "    wd = frame.shape[1]\n",
    "\n",
    "    margin_top = int(ht/100) \n",
    "    margin_left = int((wd/100)*89.5)\n",
    "    logo_wd = int((wd/100)*10.5) \n",
    "    logo_ht = int((ht/100)*8)\n",
    "\n",
    "    side = min(logo_wd, logo_ht)\n",
    "    logo = cv.resize(logo, (side, side))\n",
    "    \n",
    "    bg = frame[margin_top:side+margin_top, margin_left:side + margin_left].copy()\n",
    "\n",
    "    final_logo = cv.addWeighted(bg, 0.3, logo, 0.7, 0)\n",
    "    \n",
    "    frame[margin_top:side+margin_top, margin_left:side + margin_left] = final_logo\n",
    "\n",
    "    cv.imshow(\"Frame\",frame)\n",
    "\n",
    "    if cv.waitKey(1) == 115: # s \n",
    "        scaling_factor-=0.1\n",
    "    elif cv.waitKey(1) == 119: # w\n",
    "        scaling_factor+=0.1\n",
    "    elif cv.waitKey(1) == 27:\n",
    "        cam.release()\n",
    "        cv.destroyAllWindows()\n",
    "        break"
   ]
  }
 ],
 "metadata": {
  "kernelspec": {
   "display_name": "Python 3",
   "language": "python",
   "name": "python3"
  },
  "language_info": {
   "codemirror_mode": {
    "name": "ipython",
    "version": 3
   },
   "file_extension": ".py",
   "mimetype": "text/x-python",
   "name": "python",
   "nbconvert_exporter": "python",
   "pygments_lexer": "ipython3",
   "version": "3.10.0"
  },
  "orig_nbformat": 4
 },
 "nbformat": 4,
 "nbformat_minor": 2
}
