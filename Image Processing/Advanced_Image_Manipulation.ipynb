{
 "cells": [
  {
   "cell_type": "code",
   "execution_count": 1,
   "metadata": {},
   "outputs": [],
   "source": [
    "import cv2 as cv\n",
    "import numpy as np\n",
    "import matplotlib.pyplot as plt"
   ]
  },
  {
   "cell_type": "markdown",
   "metadata": {},
   "source": [
    "Working with brightness"
   ]
  },
  {
   "cell_type": "code",
   "execution_count": 2,
   "metadata": {},
   "outputs": [],
   "source": [
    "def change_brightness(img, factor): # affects each pixel's each channel\n",
    "    factor = float(factor)\n",
    "    img = img+factor\n",
    "    img[img<0] = 0\n",
    "    img[img>255] = 255\n",
    "    img = img.astype(np.uint8)\n",
    "    return img\n",
    "\n",
    "cam = cv.VideoCapture(0)\n",
    "\n",
    "while True:\n",
    "    ret, frame = cam.read()\n",
    "    frame = cv.flip(frame, 1)\n",
    "\n",
    "    cv.imshow('frame', frame)\n",
    "    \n",
    "    img_1 = change_brightness(frame, -50)\n",
    "    img_2 = change_brightness(frame, 50)\n",
    "    img_3 = change_brightness(frame, 100)\n",
    "    img_4 = change_brightness(frame, -100)\n",
    "\n",
    "    cv.imshow('img_1(reduced brightness)', img_1)\n",
    "    cv.imshow('img_2(increased brightness)', img_2)\n",
    "    cv.imshow('img_3(increased brightness)', img_3)\n",
    "    cv.imshow('img_4(reduced brightness)', img_4)\n",
    "    \n",
    "    key = cv.waitKey(10)\n",
    "    if key == 27:\n",
    "        cam.release()\n",
    "        cv.destroyAllWindows()\n",
    "        break"
   ]
  },
  {
   "cell_type": "markdown",
   "metadata": {},
   "source": [
    "Adding cool tone"
   ]
  },
  {
   "cell_type": "code",
   "execution_count": 3,
   "metadata": {},
   "outputs": [],
   "source": [
    "# blue background\n",
    "blue = [247,206,139]\n",
    "background = np.array(blue*frame.shape[0]*frame.shape[1]).astype(np.uint8).reshape(frame.shape)\n",
    "\n",
    "yellow = [108,222,249]\n",
    "background_yellow = np.array(yellow*frame.shape[0]*frame.shape[1]).astype(np.uint8).reshape(frame.shape)\n",
    "\n",
    "cam = cv.VideoCapture(0)\n",
    "\n",
    "while True:\n",
    "    ret, frame = cam.read()\n",
    "    frame = cv.flip(frame, 1)\n",
    "\n",
    "    cv.imshow('frame', frame)\n",
    "\n",
    "    # merging blue background and frame\n",
    "    merged_blue = cv.addWeighted(frame, 0.7, background, 0.3, 0)\n",
    "    cv.imshow('merged_blue', merged_blue)\n",
    "\n",
    "    # merging yellow background and frame\n",
    "    merged_yellow = cv.addWeighted(frame, 0.7, background_yellow, 0.3, 0)\n",
    "    cv.imshow('merged_yellow', merged_yellow)\n",
    "\n",
    "    merged_both = cv.addWeighted(merged_blue, 0.5, merged_yellow, 0.5, 0)\n",
    "    cv.imshow('merged_both', merged_both)\n",
    "\n",
    "    key = cv.waitKey(10)\n",
    "    if key == 27:\n",
    "        cam.release()\n",
    "        cv.destroyAllWindows()\n",
    "        break"
   ]
  },
  {
   "cell_type": "markdown",
   "metadata": {},
   "source": [
    "dealing with images"
   ]
  },
  {
   "cell_type": "code",
   "execution_count": 6,
   "metadata": {},
   "outputs": [],
   "source": [
    "def change_tone(img,color, factor,img_size):\n",
    "        background = np.array(color*img_size[0]*img_size[1]).astype(np.uint8).reshape(img_size)\n",
    "        merged = cv.addWeighted(img, 1-factor, background, factor, 0)\n",
    "        return merged\n",
    "img = cv.imread('Selfies/selfie1.jpg')\n",
    "cv.imshow('img', change_tone(img, [247,206,139], 0.3, img.shape))\n",
    "cv.waitKey(0)\n",
    "cv.destroyAllWindows()"
   ]
  },
  {
   "cell_type": "code",
   "execution_count": 7,
   "metadata": {},
   "outputs": [],
   "source": [
    "def merge(foreground_img_path, background_img_path, a, b):\n",
    "    img = cv.imread(foreground_img_path)\n",
    "    background = cv.imread(background_img_path)\n",
    "    background = cv.resize(background, (img.shape[1], img.shape[0]))\n",
    "    merged = cv.addWeighted(img, a, background, b, 0)\n",
    "    cv.imshow('img', img)\n",
    "    cv.waitKey(0)\n",
    "    cv.imshow('background', background)\n",
    "    cv.waitKey(0)\n",
    "    cv.imshow('merged', merged)\n",
    "    cv.waitKey(0)\n",
    "    cv.destroyAllWindows()\n",
    "merge('Selfies/selfie1.jpg', 'b3.jpeg', 0.7, 0.3)"
   ]
  }
 ],
 "metadata": {
  "kernelspec": {
   "display_name": "Python 3",
   "language": "python",
   "name": "python3"
  },
  "language_info": {
   "codemirror_mode": {
    "name": "ipython",
    "version": 3
   },
   "file_extension": ".py",
   "mimetype": "text/x-python",
   "name": "python",
   "nbconvert_exporter": "python",
   "pygments_lexer": "ipython3",
   "version": "3.10.0"
  },
  "orig_nbformat": 4
 },
 "nbformat": 4,
 "nbformat_minor": 2
}
